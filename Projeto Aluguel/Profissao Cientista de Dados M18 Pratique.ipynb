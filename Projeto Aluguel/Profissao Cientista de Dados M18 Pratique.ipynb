{
 "cells": [
  {
   "cell_type": "markdown",
   "metadata": {
    "id": "Bct3LixAaZWG"
   },
   "source": [
    "# **MÓDULO 18 - Pratique**\n",
    "# Regressão Linear"
   ]
  },
  {
   "cell_type": "markdown",
   "metadata": {
    "id": "w4_W1qBlaeZc"
   },
   "source": [
    "Agora que aprendemos como aplicar a regressão linear simples e múltipla, colocaremos em prática os conceitos vistos na aula."
   ]
  },
  {
   "cell_type": "markdown",
   "metadata": {
    "id": "gGrc-SQQaleL"
   },
   "source": [
    "Temos aqui uma base de imóveis para alugar, precisamos desenvolver um modelo de regressão linear múltipla para conseguir prever o preço de imóveis dadas as variáveis independentes do nosso modelo."
   ]
  },
  {
   "cell_type": "markdown",
   "metadata": {
    "id": "2Fd536bSK7dK"
   },
   "source": []
  },
  {
   "cell_type": "markdown",
   "metadata": {
    "id": "ehrFPajR2uAN"
   },
   "source": [
    "**Atenção! Esse é seu primeiro modelo, caso tenha dificuldade conte com a ajuda da tutoria**\n",
    "\n",
    "Você notará que alguns códigos já estão presentes para facilitar a construção de vocês."
   ]
  },
  {
   "cell_type": "code",
   "execution_count": 64,
   "metadata": {
    "id": "UYJv33ZAZ0QF"
   },
   "outputs": [],
   "source": [
    "import seaborn as sns\n",
    "import matplotlib.pyplot as plt\n",
    "import pandas as pd\n",
    "import plotly.express as px\n",
    "from sklearn.model_selection import train_test_split\n",
    "from sklearn.linear_model import LinearRegression"
   ]
  },
  {
   "cell_type": "code",
   "execution_count": 65,
   "metadata": {
    "colab": {
     "base_uri": "https://localhost:8080/",
     "height": 363
    },
    "id": "6fzdslDya3Ub",
    "outputId": "e385cfd4-5c01-4354-ad56-faf5fdf80c91"
   },
   "outputs": [
    {
     "data": {
      "text/html": [
       "<div>\n",
       "<style scoped>\n",
       "    .dataframe tbody tr th:only-of-type {\n",
       "        vertical-align: middle;\n",
       "    }\n",
       "\n",
       "    .dataframe tbody tr th {\n",
       "        vertical-align: top;\n",
       "    }\n",
       "\n",
       "    .dataframe thead th {\n",
       "        text-align: right;\n",
       "    }\n",
       "</style>\n",
       "<table border=\"1\" class=\"dataframe\">\n",
       "  <thead>\n",
       "    <tr style=\"text-align: right;\">\n",
       "      <th></th>\n",
       "      <th>Valor_Aluguel</th>\n",
       "      <th>Valor_Condominio</th>\n",
       "      <th>Metragem</th>\n",
       "      <th>N_Quartos</th>\n",
       "      <th>N_banheiros</th>\n",
       "      <th>N_Suites</th>\n",
       "      <th>N_Vagas</th>\n",
       "    </tr>\n",
       "  </thead>\n",
       "  <tbody>\n",
       "    <tr>\n",
       "      <th>0</th>\n",
       "      <td>480</td>\n",
       "      <td>295</td>\n",
       "      <td>48</td>\n",
       "      <td>2</td>\n",
       "      <td>2</td>\n",
       "      <td>1</td>\n",
       "      <td>1</td>\n",
       "    </tr>\n",
       "    <tr>\n",
       "      <th>1</th>\n",
       "      <td>500</td>\n",
       "      <td>0</td>\n",
       "      <td>50</td>\n",
       "      <td>1</td>\n",
       "      <td>2</td>\n",
       "      <td>1</td>\n",
       "      <td>1</td>\n",
       "    </tr>\n",
       "    <tr>\n",
       "      <th>2</th>\n",
       "      <td>500</td>\n",
       "      <td>0</td>\n",
       "      <td>40</td>\n",
       "      <td>1</td>\n",
       "      <td>2</td>\n",
       "      <td>1</td>\n",
       "      <td>1</td>\n",
       "    </tr>\n",
       "    <tr>\n",
       "      <th>3</th>\n",
       "      <td>500</td>\n",
       "      <td>36</td>\n",
       "      <td>45</td>\n",
       "      <td>1</td>\n",
       "      <td>2</td>\n",
       "      <td>1</td>\n",
       "      <td>0</td>\n",
       "    </tr>\n",
       "    <tr>\n",
       "      <th>4</th>\n",
       "      <td>500</td>\n",
       "      <td>0</td>\n",
       "      <td>30</td>\n",
       "      <td>1</td>\n",
       "      <td>1</td>\n",
       "      <td>0</td>\n",
       "      <td>0</td>\n",
       "    </tr>\n",
       "    <tr>\n",
       "      <th>5</th>\n",
       "      <td>500</td>\n",
       "      <td>380</td>\n",
       "      <td>66</td>\n",
       "      <td>2</td>\n",
       "      <td>1</td>\n",
       "      <td>0</td>\n",
       "      <td>1</td>\n",
       "    </tr>\n",
       "    <tr>\n",
       "      <th>6</th>\n",
       "      <td>550</td>\n",
       "      <td>100</td>\n",
       "      <td>48</td>\n",
       "      <td>2</td>\n",
       "      <td>2</td>\n",
       "      <td>1</td>\n",
       "      <td>1</td>\n",
       "    </tr>\n",
       "    <tr>\n",
       "      <th>7</th>\n",
       "      <td>600</td>\n",
       "      <td>110</td>\n",
       "      <td>46</td>\n",
       "      <td>2</td>\n",
       "      <td>2</td>\n",
       "      <td>1</td>\n",
       "      <td>1</td>\n",
       "    </tr>\n",
       "    <tr>\n",
       "      <th>8</th>\n",
       "      <td>600</td>\n",
       "      <td>100</td>\n",
       "      <td>49</td>\n",
       "      <td>2</td>\n",
       "      <td>2</td>\n",
       "      <td>1</td>\n",
       "      <td>1</td>\n",
       "    </tr>\n",
       "    <tr>\n",
       "      <th>9</th>\n",
       "      <td>600</td>\n",
       "      <td>325</td>\n",
       "      <td>50</td>\n",
       "      <td>2</td>\n",
       "      <td>2</td>\n",
       "      <td>1</td>\n",
       "      <td>1</td>\n",
       "    </tr>\n",
       "  </tbody>\n",
       "</table>\n",
       "</div>"
      ],
      "text/plain": [
       "   Valor_Aluguel  Valor_Condominio  Metragem  N_Quartos  N_banheiros  \\\n",
       "0            480               295        48          2            2   \n",
       "1            500                 0        50          1            2   \n",
       "2            500                 0        40          1            2   \n",
       "3            500                36        45          1            2   \n",
       "4            500                 0        30          1            1   \n",
       "5            500               380        66          2            1   \n",
       "6            550               100        48          2            2   \n",
       "7            600               110        46          2            2   \n",
       "8            600               100        49          2            2   \n",
       "9            600               325        50          2            2   \n",
       "\n",
       "   N_Suites  N_Vagas  \n",
       "0         1        1  \n",
       "1         1        1  \n",
       "2         1        1  \n",
       "3         1        0  \n",
       "4         0        0  \n",
       "5         0        1  \n",
       "6         1        1  \n",
       "7         1        1  \n",
       "8         1        1  \n",
       "9         1        1  "
      ]
     },
     "execution_count": 65,
     "metadata": {},
     "output_type": "execute_result"
    }
   ],
   "source": [
    "df = pd.read_csv(\"ALUGUEL_MOD12.csv\", delimiter=';')\n",
    "\n",
    "df.head(10)"
   ]
  },
  {
   "cell_type": "markdown",
   "metadata": {
    "id": "Pkd-n1HadKFO"
   },
   "source": [
    "Legenda dos dados:\n",
    "\n",
    "*   **Valor_Aluguel** : valor Total pago no aluguel\n",
    "\n",
    "*   **Valor_Condominio** : Valor do Condomínio.\n",
    "\n",
    "*   **Metragem** : Metragem do Apartamento.\n",
    "\n",
    "*   **N_Quartos** : Número de Quartos do Imóvel.\n",
    "\n",
    "*   **N_banheiros** : Número de banheiros.\n",
    "\n",
    "*   **N_Suites** : Número de Suítes.\n",
    "\n",
    "*   **N_Vagas** : Número de Vagas."
   ]
  },
  {
   "cell_type": "markdown",
   "metadata": {
    "id": "vAWfnbqrdlko"
   },
   "source": [
    "# 1 - Realize a primeira etapa de pré processamento dos dados.\n",
    "\n",
    "A) Verifique os tipos de dados.\n",
    "\n",
    "\n",
    "B) Verifique os dados faltantes, se houver dados faltantes faça a substituição ou remoção justificando sua escolha."
   ]
  },
  {
   "cell_type": "code",
   "execution_count": 66,
   "metadata": {
    "id": "oNPSvyFld-4C"
   },
   "outputs": [
    {
     "data": {
      "text/plain": [
       "Valor_Aluguel       int64\n",
       "Valor_Condominio    int64\n",
       "Metragem            int64\n",
       "N_Quartos           int64\n",
       "N_banheiros         int64\n",
       "N_Suites            int64\n",
       "N_Vagas             int64\n",
       "dtype: object"
      ]
     },
     "execution_count": 66,
     "metadata": {},
     "output_type": "execute_result"
    }
   ],
   "source": [
    "df.dtypes\n"
   ]
  },
  {
   "cell_type": "code",
   "execution_count": 67,
   "metadata": {},
   "outputs": [
    {
     "data": {
      "text/plain": [
       "Valor_Aluguel       0\n",
       "Valor_Condominio    0\n",
       "Metragem            0\n",
       "N_Quartos           0\n",
       "N_banheiros         0\n",
       "N_Suites            0\n",
       "N_Vagas             0\n",
       "dtype: int64"
      ]
     },
     "execution_count": 67,
     "metadata": {},
     "output_type": "execute_result"
    }
   ],
   "source": [
    "df.isna().sum()"
   ]
  },
  {
   "cell_type": "markdown",
   "metadata": {},
   "source": [
    "A base de dados não apresenta dados faltantes"
   ]
  },
  {
   "cell_type": "markdown",
   "metadata": {
    "id": "0_JSwysTeLti"
   },
   "source": [
    "# 2 - Realize a segunda etapa de pré processamento dos dados.\n",
    "\n",
    "A) Utilize a função describe para identificarmos outliers e verificarmos a distribuição dos dados.\n",
    "\n",
    "\n",
    "B) Caso note uma variável que te pareça conter outliers realiza a análise e tratamento desses dados, justificando a escolha do método utilizado.\n",
    "\n",
    "C) Realize a análise bivariada dos dados. Faça uso de pelo menos 3 gráficos e traga insights acerca do analisado."
   ]
  },
  {
   "cell_type": "code",
   "execution_count": 68,
   "metadata": {
    "id": "mF5gICF0eLSu"
   },
   "outputs": [
    {
     "data": {
      "text/html": [
       "<div>\n",
       "<style scoped>\n",
       "    .dataframe tbody tr th:only-of-type {\n",
       "        vertical-align: middle;\n",
       "    }\n",
       "\n",
       "    .dataframe tbody tr th {\n",
       "        vertical-align: top;\n",
       "    }\n",
       "\n",
       "    .dataframe thead th {\n",
       "        text-align: right;\n",
       "    }\n",
       "</style>\n",
       "<table border=\"1\" class=\"dataframe\">\n",
       "  <thead>\n",
       "    <tr style=\"text-align: right;\">\n",
       "      <th></th>\n",
       "      <th>Valor_Aluguel</th>\n",
       "      <th>Valor_Condominio</th>\n",
       "      <th>Metragem</th>\n",
       "      <th>N_Quartos</th>\n",
       "      <th>N_banheiros</th>\n",
       "      <th>N_Suites</th>\n",
       "      <th>N_Vagas</th>\n",
       "    </tr>\n",
       "  </thead>\n",
       "  <tbody>\n",
       "    <tr>\n",
       "      <th>count</th>\n",
       "      <td>7203.000000</td>\n",
       "      <td>7203.000000</td>\n",
       "      <td>7203.000000</td>\n",
       "      <td>7203.000000</td>\n",
       "      <td>7203.000000</td>\n",
       "      <td>7203.000000</td>\n",
       "      <td>7203.00000</td>\n",
       "    </tr>\n",
       "    <tr>\n",
       "      <th>mean</th>\n",
       "      <td>2966.596140</td>\n",
       "      <td>811.538109</td>\n",
       "      <td>88.506178</td>\n",
       "      <td>2.300153</td>\n",
       "      <td>2.095932</td>\n",
       "      <td>1.016660</td>\n",
       "      <td>1.44176</td>\n",
       "    </tr>\n",
       "    <tr>\n",
       "      <th>std</th>\n",
       "      <td>2948.720385</td>\n",
       "      <td>796.564846</td>\n",
       "      <td>61.567505</td>\n",
       "      <td>0.826615</td>\n",
       "      <td>0.983812</td>\n",
       "      <td>0.874204</td>\n",
       "      <td>0.86993</td>\n",
       "    </tr>\n",
       "    <tr>\n",
       "      <th>min</th>\n",
       "      <td>480.000000</td>\n",
       "      <td>0.000000</td>\n",
       "      <td>30.000000</td>\n",
       "      <td>1.000000</td>\n",
       "      <td>1.000000</td>\n",
       "      <td>0.000000</td>\n",
       "      <td>0.00000</td>\n",
       "    </tr>\n",
       "    <tr>\n",
       "      <th>25%</th>\n",
       "      <td>1350.000000</td>\n",
       "      <td>395.000000</td>\n",
       "      <td>52.000000</td>\n",
       "      <td>2.000000</td>\n",
       "      <td>2.000000</td>\n",
       "      <td>1.000000</td>\n",
       "      <td>1.00000</td>\n",
       "    </tr>\n",
       "    <tr>\n",
       "      <th>50%</th>\n",
       "      <td>2000.000000</td>\n",
       "      <td>592.000000</td>\n",
       "      <td>67.000000</td>\n",
       "      <td>2.000000</td>\n",
       "      <td>2.000000</td>\n",
       "      <td>1.000000</td>\n",
       "      <td>1.00000</td>\n",
       "    </tr>\n",
       "    <tr>\n",
       "      <th>75%</th>\n",
       "      <td>3200.000000</td>\n",
       "      <td>980.000000</td>\n",
       "      <td>100.000000</td>\n",
       "      <td>3.000000</td>\n",
       "      <td>2.000000</td>\n",
       "      <td>1.000000</td>\n",
       "      <td>2.00000</td>\n",
       "    </tr>\n",
       "    <tr>\n",
       "      <th>max</th>\n",
       "      <td>25000.000000</td>\n",
       "      <td>9500.000000</td>\n",
       "      <td>880.000000</td>\n",
       "      <td>10.000000</td>\n",
       "      <td>8.000000</td>\n",
       "      <td>5.000000</td>\n",
       "      <td>9.00000</td>\n",
       "    </tr>\n",
       "  </tbody>\n",
       "</table>\n",
       "</div>"
      ],
      "text/plain": [
       "       Valor_Aluguel  Valor_Condominio     Metragem    N_Quartos  N_banheiros  \\\n",
       "count    7203.000000       7203.000000  7203.000000  7203.000000  7203.000000   \n",
       "mean     2966.596140        811.538109    88.506178     2.300153     2.095932   \n",
       "std      2948.720385        796.564846    61.567505     0.826615     0.983812   \n",
       "min       480.000000          0.000000    30.000000     1.000000     1.000000   \n",
       "25%      1350.000000        395.000000    52.000000     2.000000     2.000000   \n",
       "50%      2000.000000        592.000000    67.000000     2.000000     2.000000   \n",
       "75%      3200.000000        980.000000   100.000000     3.000000     2.000000   \n",
       "max     25000.000000       9500.000000   880.000000    10.000000     8.000000   \n",
       "\n",
       "          N_Suites     N_Vagas  \n",
       "count  7203.000000  7203.00000  \n",
       "mean      1.016660     1.44176  \n",
       "std       0.874204     0.86993  \n",
       "min       0.000000     0.00000  \n",
       "25%       1.000000     1.00000  \n",
       "50%       1.000000     1.00000  \n",
       "75%       1.000000     2.00000  \n",
       "max       5.000000     9.00000  "
      ]
     },
     "execution_count": 68,
     "metadata": {},
     "output_type": "execute_result"
    }
   ],
   "source": [
    "df.describe()"
   ]
  },
  {
   "cell_type": "markdown",
   "metadata": {},
   "source": [
    "Realizando uma análise, todos os valores aparentam estar condizentes com a realidade, nada que pareça ser um outlier."
   ]
  },
  {
   "cell_type": "code",
   "execution_count": 69,
   "metadata": {},
   "outputs": [
    {
     "data": {
      "application/vnd.plotly.v1+json": {
       "config": {
        "plotlyServerURL": "https://plot.ly"
       },
       "data": [
        {
         "hovertemplate": "Metragem (m²)=%{x}<br>Valor do Aluguel=%{y}<extra></extra>",
         "legendgroup": "",
         "line": {
          "color": "#636efa",
          "dash": "solid"
         },
         "marker": {
          "symbol": "circle"
         },
         "mode": "lines",
         "name": "",
         "orientation": "v",
         "showlegend": false,
         "type": "scatter",
         "x": [
          30,
          31,
          32,
          33,
          34,
          35,
          36,
          37,
          38,
          39,
          40,
          41,
          42,
          43,
          44,
          45,
          46,
          47,
          48,
          49,
          50,
          51,
          52,
          53,
          54,
          55,
          56,
          57,
          58,
          59,
          60,
          61,
          62,
          63,
          64,
          65,
          66,
          67,
          68,
          69,
          70,
          71,
          72,
          73,
          74,
          75,
          76,
          77,
          78,
          79,
          80,
          81,
          82,
          83,
          84,
          85,
          86,
          87,
          88,
          89,
          90,
          91,
          92,
          93,
          94,
          95,
          96,
          97,
          98,
          99,
          100,
          101,
          102,
          103,
          104,
          105,
          106,
          107,
          108,
          109,
          110,
          111,
          112,
          113,
          114,
          115,
          116,
          117,
          118,
          119,
          120,
          121,
          122,
          123,
          124,
          125,
          126,
          127,
          128,
          129,
          130,
          131,
          132,
          133,
          134,
          135,
          136,
          137,
          138,
          139,
          140,
          141,
          142,
          143,
          144,
          145,
          146,
          147,
          148,
          149,
          150,
          151,
          152,
          153,
          154,
          155,
          156,
          157,
          158,
          159,
          160,
          161,
          162,
          163,
          164,
          165,
          166,
          167,
          168,
          169,
          170,
          171,
          172,
          173,
          174,
          175,
          176,
          177,
          178,
          179,
          180,
          181,
          182,
          183,
          184,
          185,
          186,
          187,
          188,
          189,
          190,
          191,
          192,
          193,
          194,
          195,
          196,
          197,
          198,
          199,
          200,
          201,
          203,
          204,
          205,
          206,
          207,
          208,
          209,
          210,
          211,
          213,
          215,
          216,
          217,
          218,
          219,
          220,
          221,
          222,
          223,
          224,
          225,
          226,
          227,
          228,
          230,
          231,
          232,
          233,
          234,
          235,
          236,
          237,
          238,
          239,
          240,
          242,
          243,
          245,
          246,
          247,
          248,
          250,
          251,
          252,
          255,
          257,
          258,
          259,
          261,
          262,
          263,
          264,
          265,
          266,
          267,
          268,
          269,
          270,
          271,
          272,
          273,
          276,
          277,
          278,
          280,
          282,
          283,
          289,
          290,
          291,
          292,
          293,
          296,
          298,
          300,
          304,
          305,
          306,
          309,
          311,
          312,
          313,
          314,
          315,
          317,
          318,
          320,
          324,
          325,
          327,
          330,
          333,
          336,
          340,
          350,
          354,
          360,
          364,
          370,
          371,
          373,
          377,
          378,
          380,
          390,
          391,
          392,
          393,
          397,
          400,
          414,
          420,
          425,
          440,
          452,
          456,
          469,
          470,
          510,
          516,
          540,
          574,
          600,
          627,
          852,
          880
         ],
         "xaxis": "x",
         "y": [
          1295,
          1500,
          1400,
          2000,
          1625,
          2100,
          2155,
          1750,
          1400,
          1250,
          1400,
          1700,
          1550,
          1600,
          1375,
          1300,
          1450,
          1225,
          1200,
          1610,
          1300,
          1500,
          1400,
          1500,
          1325,
          1500,
          1400,
          1490,
          1600,
          1235,
          1500,
          1400,
          1665,
          1645,
          1700,
          1600,
          1800,
          1700,
          1900,
          2000,
          1600,
          2200,
          1800,
          1750.5,
          2200,
          1750,
          2100,
          2050,
          2100,
          2850,
          1800,
          2375,
          2000,
          2400,
          2500,
          2000,
          2600,
          3500,
          2800,
          2750,
          2005,
          2900,
          2450,
          3250,
          3450,
          2600,
          2500,
          3190,
          2500,
          2000,
          2700,
          3300,
          3000,
          2900,
          4175,
          3300,
          3300,
          3000,
          4500,
          5500,
          2800,
          4500,
          3500,
          3000,
          2600,
          3500,
          3700.5,
          2750,
          3300,
          3900,
          3500,
          5500,
          3000,
          3850,
          6000,
          3600,
          3500,
          3600,
          4750,
          5500,
          4000,
          3200,
          6000,
          4500,
          4500,
          3800,
          3500,
          3850,
          3300,
          2900,
          4000,
          6800,
          4750,
          5500,
          2220,
          4000,
          5000,
          2800,
          4500,
          3000,
          4050,
          6000,
          4500,
          3750,
          2899.5,
          4500,
          3750,
          4500,
          6150,
          12000,
          4100,
          3500,
          7250,
          5400,
          6000,
          4900,
          12000,
          2750,
          5500,
          5500,
          5500,
          4750,
          5395,
          4000,
          5000,
          4800,
          6500,
          5000,
          7350,
          6000,
          5000,
          8750,
          6400,
          3999.5,
          5500,
          4650,
          5900,
          6750,
          6900,
          6350,
          5000,
          9400,
          4500,
          5000,
          11500,
          11500,
          5000,
          3350,
          4000,
          7500,
          4450,
          2500,
          3000,
          15000,
          7500,
          9500,
          6000,
          10000,
          22300,
          7999.5,
          10600,
          8000,
          9750,
          6050,
          3000,
          9500,
          7750,
          6273,
          9000,
          19500,
          13000,
          9000,
          10500,
          15000,
          7000,
          12500,
          7850,
          2600,
          15000,
          9000,
          6500,
          11000,
          12000,
          3500,
          5000,
          16000,
          8250,
          10800,
          7000,
          18000,
          6000,
          11000,
          6000,
          8161.5,
          15000,
          10000,
          9000,
          7164.5,
          13000,
          11000,
          10000,
          22000,
          12000,
          17000,
          10900,
          13250,
          5500,
          5000,
          16500,
          9200,
          12000,
          7500,
          8000,
          8500,
          15000,
          10200,
          9750,
          8000,
          7800,
          7500,
          5000,
          10435,
          18500,
          6150,
          11000,
          9000,
          10500,
          17000,
          14850,
          19500,
          15000,
          7850,
          10000,
          6000,
          10000,
          10000,
          20000,
          10000,
          15000,
          4700,
          10750,
          25000,
          6350,
          7000,
          6500,
          15000,
          14983,
          5133,
          13993,
          24000,
          12000,
          13656,
          7500,
          15000,
          12000,
          7900,
          10000,
          8000,
          19000,
          5000,
          12500,
          6500,
          8000,
          10500,
          16000,
          6000,
          12500,
          15000,
          20000,
          20000,
          8500,
          5500,
          20000,
          9000,
          25000,
          25000,
          8700,
          19900
         ],
         "yaxis": "y"
        }
       ],
       "layout": {
        "legend": {
         "tracegroupgap": 0
        },
        "template": {
         "data": {
          "bar": [
           {
            "error_x": {
             "color": "#2a3f5f"
            },
            "error_y": {
             "color": "#2a3f5f"
            },
            "marker": {
             "line": {
              "color": "#E5ECF6",
              "width": 0.5
             },
             "pattern": {
              "fillmode": "overlay",
              "size": 10,
              "solidity": 0.2
             }
            },
            "type": "bar"
           }
          ],
          "barpolar": [
           {
            "marker": {
             "line": {
              "color": "#E5ECF6",
              "width": 0.5
             },
             "pattern": {
              "fillmode": "overlay",
              "size": 10,
              "solidity": 0.2
             }
            },
            "type": "barpolar"
           }
          ],
          "carpet": [
           {
            "aaxis": {
             "endlinecolor": "#2a3f5f",
             "gridcolor": "white",
             "linecolor": "white",
             "minorgridcolor": "white",
             "startlinecolor": "#2a3f5f"
            },
            "baxis": {
             "endlinecolor": "#2a3f5f",
             "gridcolor": "white",
             "linecolor": "white",
             "minorgridcolor": "white",
             "startlinecolor": "#2a3f5f"
            },
            "type": "carpet"
           }
          ],
          "choropleth": [
           {
            "colorbar": {
             "outlinewidth": 0,
             "ticks": ""
            },
            "type": "choropleth"
           }
          ],
          "contour": [
           {
            "colorbar": {
             "outlinewidth": 0,
             "ticks": ""
            },
            "colorscale": [
             [
              0,
              "#0d0887"
             ],
             [
              0.1111111111111111,
              "#46039f"
             ],
             [
              0.2222222222222222,
              "#7201a8"
             ],
             [
              0.3333333333333333,
              "#9c179e"
             ],
             [
              0.4444444444444444,
              "#bd3786"
             ],
             [
              0.5555555555555556,
              "#d8576b"
             ],
             [
              0.6666666666666666,
              "#ed7953"
             ],
             [
              0.7777777777777778,
              "#fb9f3a"
             ],
             [
              0.8888888888888888,
              "#fdca26"
             ],
             [
              1,
              "#f0f921"
             ]
            ],
            "type": "contour"
           }
          ],
          "contourcarpet": [
           {
            "colorbar": {
             "outlinewidth": 0,
             "ticks": ""
            },
            "type": "contourcarpet"
           }
          ],
          "heatmap": [
           {
            "colorbar": {
             "outlinewidth": 0,
             "ticks": ""
            },
            "colorscale": [
             [
              0,
              "#0d0887"
             ],
             [
              0.1111111111111111,
              "#46039f"
             ],
             [
              0.2222222222222222,
              "#7201a8"
             ],
             [
              0.3333333333333333,
              "#9c179e"
             ],
             [
              0.4444444444444444,
              "#bd3786"
             ],
             [
              0.5555555555555556,
              "#d8576b"
             ],
             [
              0.6666666666666666,
              "#ed7953"
             ],
             [
              0.7777777777777778,
              "#fb9f3a"
             ],
             [
              0.8888888888888888,
              "#fdca26"
             ],
             [
              1,
              "#f0f921"
             ]
            ],
            "type": "heatmap"
           }
          ],
          "heatmapgl": [
           {
            "colorbar": {
             "outlinewidth": 0,
             "ticks": ""
            },
            "colorscale": [
             [
              0,
              "#0d0887"
             ],
             [
              0.1111111111111111,
              "#46039f"
             ],
             [
              0.2222222222222222,
              "#7201a8"
             ],
             [
              0.3333333333333333,
              "#9c179e"
             ],
             [
              0.4444444444444444,
              "#bd3786"
             ],
             [
              0.5555555555555556,
              "#d8576b"
             ],
             [
              0.6666666666666666,
              "#ed7953"
             ],
             [
              0.7777777777777778,
              "#fb9f3a"
             ],
             [
              0.8888888888888888,
              "#fdca26"
             ],
             [
              1,
              "#f0f921"
             ]
            ],
            "type": "heatmapgl"
           }
          ],
          "histogram": [
           {
            "marker": {
             "pattern": {
              "fillmode": "overlay",
              "size": 10,
              "solidity": 0.2
             }
            },
            "type": "histogram"
           }
          ],
          "histogram2d": [
           {
            "colorbar": {
             "outlinewidth": 0,
             "ticks": ""
            },
            "colorscale": [
             [
              0,
              "#0d0887"
             ],
             [
              0.1111111111111111,
              "#46039f"
             ],
             [
              0.2222222222222222,
              "#7201a8"
             ],
             [
              0.3333333333333333,
              "#9c179e"
             ],
             [
              0.4444444444444444,
              "#bd3786"
             ],
             [
              0.5555555555555556,
              "#d8576b"
             ],
             [
              0.6666666666666666,
              "#ed7953"
             ],
             [
              0.7777777777777778,
              "#fb9f3a"
             ],
             [
              0.8888888888888888,
              "#fdca26"
             ],
             [
              1,
              "#f0f921"
             ]
            ],
            "type": "histogram2d"
           }
          ],
          "histogram2dcontour": [
           {
            "colorbar": {
             "outlinewidth": 0,
             "ticks": ""
            },
            "colorscale": [
             [
              0,
              "#0d0887"
             ],
             [
              0.1111111111111111,
              "#46039f"
             ],
             [
              0.2222222222222222,
              "#7201a8"
             ],
             [
              0.3333333333333333,
              "#9c179e"
             ],
             [
              0.4444444444444444,
              "#bd3786"
             ],
             [
              0.5555555555555556,
              "#d8576b"
             ],
             [
              0.6666666666666666,
              "#ed7953"
             ],
             [
              0.7777777777777778,
              "#fb9f3a"
             ],
             [
              0.8888888888888888,
              "#fdca26"
             ],
             [
              1,
              "#f0f921"
             ]
            ],
            "type": "histogram2dcontour"
           }
          ],
          "mesh3d": [
           {
            "colorbar": {
             "outlinewidth": 0,
             "ticks": ""
            },
            "type": "mesh3d"
           }
          ],
          "parcoords": [
           {
            "line": {
             "colorbar": {
              "outlinewidth": 0,
              "ticks": ""
             }
            },
            "type": "parcoords"
           }
          ],
          "pie": [
           {
            "automargin": true,
            "type": "pie"
           }
          ],
          "scatter": [
           {
            "fillpattern": {
             "fillmode": "overlay",
             "size": 10,
             "solidity": 0.2
            },
            "type": "scatter"
           }
          ],
          "scatter3d": [
           {
            "line": {
             "colorbar": {
              "outlinewidth": 0,
              "ticks": ""
             }
            },
            "marker": {
             "colorbar": {
              "outlinewidth": 0,
              "ticks": ""
             }
            },
            "type": "scatter3d"
           }
          ],
          "scattercarpet": [
           {
            "marker": {
             "colorbar": {
              "outlinewidth": 0,
              "ticks": ""
             }
            },
            "type": "scattercarpet"
           }
          ],
          "scattergeo": [
           {
            "marker": {
             "colorbar": {
              "outlinewidth": 0,
              "ticks": ""
             }
            },
            "type": "scattergeo"
           }
          ],
          "scattergl": [
           {
            "marker": {
             "colorbar": {
              "outlinewidth": 0,
              "ticks": ""
             }
            },
            "type": "scattergl"
           }
          ],
          "scattermapbox": [
           {
            "marker": {
             "colorbar": {
              "outlinewidth": 0,
              "ticks": ""
             }
            },
            "type": "scattermapbox"
           }
          ],
          "scatterpolar": [
           {
            "marker": {
             "colorbar": {
              "outlinewidth": 0,
              "ticks": ""
             }
            },
            "type": "scatterpolar"
           }
          ],
          "scatterpolargl": [
           {
            "marker": {
             "colorbar": {
              "outlinewidth": 0,
              "ticks": ""
             }
            },
            "type": "scatterpolargl"
           }
          ],
          "scatterternary": [
           {
            "marker": {
             "colorbar": {
              "outlinewidth": 0,
              "ticks": ""
             }
            },
            "type": "scatterternary"
           }
          ],
          "surface": [
           {
            "colorbar": {
             "outlinewidth": 0,
             "ticks": ""
            },
            "colorscale": [
             [
              0,
              "#0d0887"
             ],
             [
              0.1111111111111111,
              "#46039f"
             ],
             [
              0.2222222222222222,
              "#7201a8"
             ],
             [
              0.3333333333333333,
              "#9c179e"
             ],
             [
              0.4444444444444444,
              "#bd3786"
             ],
             [
              0.5555555555555556,
              "#d8576b"
             ],
             [
              0.6666666666666666,
              "#ed7953"
             ],
             [
              0.7777777777777778,
              "#fb9f3a"
             ],
             [
              0.8888888888888888,
              "#fdca26"
             ],
             [
              1,
              "#f0f921"
             ]
            ],
            "type": "surface"
           }
          ],
          "table": [
           {
            "cells": {
             "fill": {
              "color": "#EBF0F8"
             },
             "line": {
              "color": "white"
             }
            },
            "header": {
             "fill": {
              "color": "#C8D4E3"
             },
             "line": {
              "color": "white"
             }
            },
            "type": "table"
           }
          ]
         },
         "layout": {
          "annotationdefaults": {
           "arrowcolor": "#2a3f5f",
           "arrowhead": 0,
           "arrowwidth": 1
          },
          "autotypenumbers": "strict",
          "coloraxis": {
           "colorbar": {
            "outlinewidth": 0,
            "ticks": ""
           }
          },
          "colorscale": {
           "diverging": [
            [
             0,
             "#8e0152"
            ],
            [
             0.1,
             "#c51b7d"
            ],
            [
             0.2,
             "#de77ae"
            ],
            [
             0.3,
             "#f1b6da"
            ],
            [
             0.4,
             "#fde0ef"
            ],
            [
             0.5,
             "#f7f7f7"
            ],
            [
             0.6,
             "#e6f5d0"
            ],
            [
             0.7,
             "#b8e186"
            ],
            [
             0.8,
             "#7fbc41"
            ],
            [
             0.9,
             "#4d9221"
            ],
            [
             1,
             "#276419"
            ]
           ],
           "sequential": [
            [
             0,
             "#0d0887"
            ],
            [
             0.1111111111111111,
             "#46039f"
            ],
            [
             0.2222222222222222,
             "#7201a8"
            ],
            [
             0.3333333333333333,
             "#9c179e"
            ],
            [
             0.4444444444444444,
             "#bd3786"
            ],
            [
             0.5555555555555556,
             "#d8576b"
            ],
            [
             0.6666666666666666,
             "#ed7953"
            ],
            [
             0.7777777777777778,
             "#fb9f3a"
            ],
            [
             0.8888888888888888,
             "#fdca26"
            ],
            [
             1,
             "#f0f921"
            ]
           ],
           "sequentialminus": [
            [
             0,
             "#0d0887"
            ],
            [
             0.1111111111111111,
             "#46039f"
            ],
            [
             0.2222222222222222,
             "#7201a8"
            ],
            [
             0.3333333333333333,
             "#9c179e"
            ],
            [
             0.4444444444444444,
             "#bd3786"
            ],
            [
             0.5555555555555556,
             "#d8576b"
            ],
            [
             0.6666666666666666,
             "#ed7953"
            ],
            [
             0.7777777777777778,
             "#fb9f3a"
            ],
            [
             0.8888888888888888,
             "#fdca26"
            ],
            [
             1,
             "#f0f921"
            ]
           ]
          },
          "colorway": [
           "#636efa",
           "#EF553B",
           "#00cc96",
           "#ab63fa",
           "#FFA15A",
           "#19d3f3",
           "#FF6692",
           "#B6E880",
           "#FF97FF",
           "#FECB52"
          ],
          "font": {
           "color": "#2a3f5f"
          },
          "geo": {
           "bgcolor": "white",
           "lakecolor": "white",
           "landcolor": "#E5ECF6",
           "showlakes": true,
           "showland": true,
           "subunitcolor": "white"
          },
          "hoverlabel": {
           "align": "left"
          },
          "hovermode": "closest",
          "mapbox": {
           "style": "light"
          },
          "paper_bgcolor": "white",
          "plot_bgcolor": "#E5ECF6",
          "polar": {
           "angularaxis": {
            "gridcolor": "white",
            "linecolor": "white",
            "ticks": ""
           },
           "bgcolor": "#E5ECF6",
           "radialaxis": {
            "gridcolor": "white",
            "linecolor": "white",
            "ticks": ""
           }
          },
          "scene": {
           "xaxis": {
            "backgroundcolor": "#E5ECF6",
            "gridcolor": "white",
            "gridwidth": 2,
            "linecolor": "white",
            "showbackground": true,
            "ticks": "",
            "zerolinecolor": "white"
           },
           "yaxis": {
            "backgroundcolor": "#E5ECF6",
            "gridcolor": "white",
            "gridwidth": 2,
            "linecolor": "white",
            "showbackground": true,
            "ticks": "",
            "zerolinecolor": "white"
           },
           "zaxis": {
            "backgroundcolor": "#E5ECF6",
            "gridcolor": "white",
            "gridwidth": 2,
            "linecolor": "white",
            "showbackground": true,
            "ticks": "",
            "zerolinecolor": "white"
           }
          },
          "shapedefaults": {
           "line": {
            "color": "#2a3f5f"
           }
          },
          "ternary": {
           "aaxis": {
            "gridcolor": "white",
            "linecolor": "white",
            "ticks": ""
           },
           "baxis": {
            "gridcolor": "white",
            "linecolor": "white",
            "ticks": ""
           },
           "bgcolor": "#E5ECF6",
           "caxis": {
            "gridcolor": "white",
            "linecolor": "white",
            "ticks": ""
           }
          },
          "title": {
           "x": 0.05
          },
          "xaxis": {
           "automargin": true,
           "gridcolor": "white",
           "linecolor": "white",
           "ticks": "",
           "title": {
            "standoff": 15
           },
           "zerolinecolor": "white",
           "zerolinewidth": 2
          },
          "yaxis": {
           "automargin": true,
           "gridcolor": "white",
           "linecolor": "white",
           "ticks": "",
           "title": {
            "standoff": 15
           },
           "zerolinecolor": "white",
           "zerolinewidth": 2
          }
         }
        },
        "title": {
         "text": "Valor mediano do aluguel por metragem"
        },
        "xaxis": {
         "anchor": "y",
         "domain": [
          0,
          1
         ],
         "title": {
          "text": "Metragem (m²)"
         }
        },
        "yaxis": {
         "anchor": "x",
         "domain": [
          0,
          1
         ],
         "title": {
          "text": "Valor do Aluguel"
         }
        }
       }
      }
     },
     "metadata": {},
     "output_type": "display_data"
    }
   ],
   "source": [
    "media_valoraluguel_metragem = df.groupby('Metragem')['Valor_Aluguel'].median().reset_index()\n",
    "\n",
    "fig = px.line(media_valoraluguel_metragem, x='Metragem', y='Valor_Aluguel',\n",
    "              title='Valor mediano do aluguel por metragem',\n",
    "              labels={'Valor_Aluguel': 'Valor do Aluguel', 'Metragem': 'Metragem (m²)'})\n",
    "fig.show()"
   ]
  },
  {
   "cell_type": "code",
   "execution_count": 70,
   "metadata": {},
   "outputs": [
    {
     "data": {
      "application/vnd.plotly.v1+json": {
       "config": {
        "plotlyServerURL": "https://plot.ly"
       },
       "data": [
        {
         "hovertemplate": "Valor_Condominio=%{x}<br>Valor do Aluguel=%{y}<extra></extra>",
         "legendgroup": "",
         "line": {
          "color": "#636efa",
          "dash": "solid"
         },
         "marker": {
          "symbol": "circle"
         },
         "mode": "lines",
         "name": "",
         "showlegend": false,
         "type": "scattergl",
         "x": [
          0,
          1,
          10,
          15,
          25,
          30,
          32,
          36,
          40,
          50,
          53,
          60,
          70,
          75,
          80,
          85,
          90,
          95,
          97,
          100,
          105,
          106,
          110,
          115,
          118,
          120,
          125,
          130,
          139,
          140,
          142,
          145,
          147,
          148,
          150,
          159,
          160,
          165,
          168,
          169,
          170,
          172,
          174,
          178,
          180,
          181,
          182,
          185,
          190,
          195,
          198,
          199,
          200,
          201,
          202,
          204,
          208,
          210,
          211,
          213,
          215,
          220,
          224,
          227,
          228,
          230,
          232,
          233,
          234,
          235,
          236,
          237,
          240,
          245,
          246,
          248,
          250,
          251,
          254,
          255,
          260,
          263,
          264,
          267,
          268,
          269,
          270,
          273,
          275,
          277,
          279,
          280,
          281,
          283,
          284,
          285,
          287,
          289,
          290,
          291,
          292,
          293,
          294,
          295,
          296,
          297,
          298,
          299,
          300,
          302,
          304,
          305,
          306,
          307,
          308,
          310,
          312,
          313,
          314,
          315,
          316,
          317,
          318,
          319,
          320,
          321,
          322,
          325,
          326,
          327,
          328,
          329,
          330,
          333,
          334,
          335,
          336,
          337,
          338,
          340,
          341,
          342,
          343,
          345,
          346,
          347,
          349,
          350,
          352,
          354,
          355,
          356,
          358,
          359,
          360,
          361,
          362,
          364,
          365,
          367,
          368,
          369,
          370,
          371,
          372,
          373,
          374,
          375,
          376,
          377,
          378,
          379,
          380,
          382,
          383,
          384,
          385,
          386,
          387,
          388,
          389,
          390,
          391,
          392,
          393,
          394,
          395,
          396,
          398,
          399,
          400,
          401,
          402,
          403,
          405,
          406,
          407,
          408,
          409,
          410,
          411,
          412,
          413,
          414,
          415,
          416,
          417,
          418,
          419,
          420,
          421,
          422,
          423,
          424,
          425,
          426,
          428,
          429,
          430,
          431,
          432,
          434,
          435,
          436,
          437,
          438,
          439,
          440,
          441,
          442,
          443,
          444,
          445,
          446,
          447,
          448,
          449,
          450,
          451,
          452,
          453,
          454,
          455,
          456,
          457,
          458,
          459,
          460,
          461,
          462,
          463,
          465,
          466,
          467,
          468,
          470,
          471,
          472,
          473,
          474,
          475,
          476,
          477,
          478,
          479,
          480,
          481,
          482,
          483,
          484,
          485,
          486,
          487,
          488,
          489,
          490,
          491,
          492,
          493,
          494,
          495,
          496,
          497,
          498,
          499,
          500,
          501,
          502,
          503,
          504,
          505,
          506,
          507,
          508,
          509,
          510,
          511,
          512,
          513,
          515,
          516,
          517,
          519,
          520,
          521,
          522,
          523,
          524,
          525,
          526,
          527,
          528,
          529,
          530,
          531,
          532,
          533,
          534,
          535,
          536,
          537,
          538,
          539,
          540,
          541,
          542,
          544,
          545,
          546,
          547,
          550,
          551,
          552,
          553,
          554,
          555,
          556,
          557,
          558,
          559,
          560,
          561,
          562,
          563,
          564,
          565,
          566,
          567,
          568,
          569,
          570,
          571,
          572,
          573,
          574,
          575,
          576,
          577,
          578,
          579,
          580,
          582,
          583,
          584,
          585,
          586,
          587,
          588,
          589,
          590,
          591,
          592,
          593,
          594,
          595,
          596,
          597,
          598,
          599,
          600,
          602,
          603,
          604,
          605,
          606,
          607,
          608,
          609,
          610,
          611,
          613,
          614,
          615,
          617,
          618,
          619,
          620,
          621,
          623,
          624,
          625,
          626,
          628,
          629,
          630,
          631,
          633,
          634,
          635,
          636,
          637,
          639,
          640,
          641,
          642,
          643,
          645,
          646,
          648,
          649,
          650,
          651,
          652,
          653,
          654,
          655,
          656,
          657,
          658,
          659,
          660,
          662,
          663,
          664,
          665,
          666,
          667,
          668,
          669,
          670,
          671,
          672,
          673,
          675,
          676,
          677,
          678,
          679,
          680,
          682,
          683,
          685,
          686,
          687,
          688,
          689,
          690,
          691,
          692,
          693,
          694,
          695,
          696,
          697,
          698,
          699,
          700,
          702,
          705,
          706,
          707,
          708,
          709,
          710,
          711,
          712,
          714,
          715,
          716,
          717,
          718,
          719,
          720,
          721,
          723,
          724,
          725,
          726,
          727,
          728,
          729,
          730,
          731,
          732,
          733,
          734,
          735,
          736,
          737,
          738,
          740,
          741,
          742,
          743,
          744,
          745,
          746,
          747,
          748,
          749,
          750,
          751,
          752,
          753,
          755,
          756,
          757,
          759,
          760,
          762,
          763,
          764,
          765,
          766,
          767,
          768,
          770,
          772,
          773,
          774,
          775,
          776,
          778,
          779,
          780,
          782,
          783,
          785,
          786,
          787,
          788,
          789,
          790,
          791,
          793,
          794,
          795,
          796,
          798,
          799,
          800,
          803,
          804,
          805,
          808,
          810,
          811,
          812,
          815,
          816,
          818,
          820,
          821,
          822,
          824,
          825,
          827,
          830,
          831,
          832,
          834,
          835,
          836,
          837,
          840,
          841,
          842,
          843,
          844,
          848,
          849,
          850,
          852,
          853,
          854,
          856,
          857,
          859,
          860,
          861,
          862,
          863,
          866,
          867,
          868,
          870,
          871,
          872,
          873,
          874,
          875,
          877,
          879,
          880,
          881,
          882,
          883,
          884,
          885,
          886,
          888,
          889,
          890,
          892,
          894,
          895,
          898,
          900,
          902,
          903,
          904,
          905,
          906,
          907,
          909,
          910,
          911,
          912,
          913,
          914,
          915,
          917,
          918,
          920,
          922,
          925,
          929,
          930,
          934,
          935,
          937,
          940,
          941,
          942,
          945,
          946,
          950,
          953,
          955,
          957,
          960,
          962,
          966,
          968,
          970,
          971,
          972,
          974,
          976,
          978,
          980,
          983,
          984,
          985,
          986,
          988,
          989,
          990,
          991,
          994,
          995,
          1000,
          1001,
          1003,
          1007,
          1008,
          1010,
          1012,
          1014,
          1016,
          1017,
          1018,
          1020,
          1024,
          1025,
          1028,
          1029,
          1030,
          1031,
          1032,
          1033,
          1034,
          1035,
          1036,
          1040,
          1042,
          1043,
          1044,
          1045,
          1049,
          1050,
          1051,
          1052,
          1053,
          1055,
          1057,
          1060,
          1061,
          1064,
          1066,
          1068,
          1070,
          1071,
          1072,
          1074,
          1076,
          1077,
          1078,
          1079,
          1080,
          1090,
          1093,
          1100,
          1102,
          1105,
          1106,
          1108,
          1112,
          1115,
          1116,
          1119,
          1120,
          1121,
          1123,
          1125,
          1128,
          1130,
          1131,
          1135,
          1138,
          1144,
          1145,
          1146,
          1148,
          1150,
          1153,
          1155,
          1157,
          1160,
          1161,
          1162,
          1163,
          1165,
          1167,
          1168,
          1169,
          1170,
          1171,
          1172,
          1180,
          1182,
          1183,
          1188,
          1190,
          1199,
          1200,
          1203,
          1210,
          1213,
          1216,
          1220,
          1222,
          1224,
          1225,
          1226,
          1228,
          1230,
          1233,
          1235,
          1240,
          1244,
          1245,
          1246,
          1247,
          1250,
          1251,
          1260,
          1264,
          1270,
          1271,
          1272,
          1275,
          1277,
          1280,
          1286,
          1287,
          1290,
          1291,
          1292,
          1293,
          1300,
          1301,
          1310,
          1314,
          1316,
          1320,
          1323,
          1325,
          1328,
          1330,
          1332,
          1335,
          1336,
          1338,
          1340,
          1342,
          1344,
          1345,
          1350,
          1355,
          1360,
          1363,
          1364,
          1367,
          1368,
          1370,
          1372,
          1377,
          1378,
          1379,
          1380,
          1383,
          1390,
          1395,
          1398,
          1400,
          1404,
          1408,
          1410,
          1411,
          1412,
          1415,
          1418,
          1420,
          1430,
          1439,
          1440,
          1447,
          1449,
          1450,
          1451,
          1453,
          1458,
          1459,
          1460,
          1463,
          1467,
          1469,
          1470,
          1475,
          1476,
          1478,
          1479,
          1480,
          1484,
          1485,
          1486,
          1490,
          1500,
          1502,
          1505,
          1510,
          1511,
          1518,
          1519,
          1520,
          1521,
          1522,
          1525,
          1530,
          1531,
          1533,
          1536,
          1541,
          1542,
          1546,
          1548,
          1550,
          1554,
          1556,
          1560,
          1561,
          1565,
          1566,
          1570,
          1573,
          1575,
          1580,
          1583,
          1585,
          1587,
          1588,
          1590,
          1594,
          1597,
          1600,
          1610,
          1615,
          1616,
          1624,
          1625,
          1627,
          1630,
          1648,
          1650,
          1653,
          1655,
          1658,
          1671,
          1675,
          1679,
          1680,
          1690,
          1696,
          1700,
          1701,
          1710,
          1711,
          1720,
          1722,
          1726,
          1730,
          1734,
          1739,
          1740,
          1750,
          1756,
          1758,
          1770,
          1780,
          1784,
          1790,
          1795,
          1800,
          1801,
          1809,
          1820,
          1824,
          1825,
          1826,
          1830,
          1831,
          1835,
          1837,
          1840,
          1842,
          1846,
          1850,
          1851,
          1854,
          1858,
          1867,
          1870,
          1876,
          1880,
          1885,
          1890,
          1900,
          1920,
          1923,
          1935,
          1936,
          1939,
          1941,
          1950,
          1960,
          1964,
          1966,
          1970,
          1980,
          1985,
          1990,
          1995,
          2000,
          2005,
          2016,
          2019,
          2035,
          2050,
          2057,
          2073,
          2075,
          2086,
          2090,
          2098,
          2099,
          2100,
          2102,
          2106,
          2109,
          2110,
          2115,
          2128,
          2129,
          2150,
          2153,
          2159,
          2160,
          2175,
          2178,
          2181,
          2190,
          2192,
          2194,
          2196,
          2200,
          2202,
          2225,
          2243,
          2250,
          2252,
          2256,
          2263,
          2265,
          2276,
          2278,
          2280,
          2284,
          2291,
          2300,
          2314,
          2320,
          2325,
          2333,
          2337,
          2343,
          2345,
          2350,
          2354,
          2371,
          2400,
          2408,
          2415,
          2418,
          2430,
          2434,
          2435,
          2450,
          2500,
          2520,
          2540,
          2569,
          2580,
          2590,
          2600,
          2605,
          2610,
          2626,
          2639,
          2640,
          2656,
          2682,
          2688,
          2700,
          2715,
          2716,
          2735,
          2741,
          2744,
          2750,
          2754,
          2775,
          2780,
          2784,
          2799,
          2800,
          2820,
          2833,
          2835,
          2838,
          2850,
          2855,
          2860,
          2875,
          2878,
          2892,
          2893,
          2900,
          2920,
          2940,
          2950,
          2990,
          2997,
          3000,
          3040,
          3046,
          3081,
          3099,
          3100,
          3150,
          3159,
          3160,
          3161,
          3184,
          3196,
          3200,
          3204,
          3226,
          3250,
          3260,
          3265,
          3283,
          3300,
          3310,
          3320,
          3331,
          3350,
          3365,
          3396,
          3399,
          3400,
          3450,
          3500,
          3502,
          3508,
          3580,
          3600,
          3613,
          3700,
          3721,
          3740,
          3769,
          3778,
          3800,
          3895,
          3900,
          3920,
          3940,
          4000,
          4019,
          4050,
          4086,
          4100,
          4174,
          4180,
          4200,
          4251,
          4300,
          4323,
          4400,
          4500,
          4509,
          4583,
          4600,
          4633,
          4690,
          4700,
          4710,
          4742,
          4800,
          4900,
          4901,
          4981,
          4995,
          5000,
          5030,
          5040,
          5096,
          5116,
          5200,
          5250,
          5251,
          5500,
          5600,
          5636,
          5705,
          5800,
          6000,
          6059,
          6800,
          7500,
          7800,
          7928,
          8000,
          8860,
          9500
         ],
         "xaxis": "x",
         "y": [
          1500,
          1390,
          1000,
          1400,
          610,
          1000,
          3200,
          500,
          1250,
          1000,
          1400,
          1200,
          1215,
          815,
          1150,
          2000,
          750,
          1200,
          1100,
          1000,
          1300,
          750,
          900,
          750,
          790,
          1250,
          1500,
          900,
          1100,
          910,
          1500,
          1500,
          3100,
          1000,
          1150,
          750,
          1600,
          850,
          670,
          905,
          1200,
          764,
          3500,
          700,
          1200,
          2700,
          700,
          1000,
          902.5,
          1050,
          1045,
          1255,
          1100,
          900,
          1200,
          1000,
          1500,
          1200,
          980,
          1150,
          1000,
          1065,
          1500,
          1973,
          1650,
          1200,
          1200,
          1200,
          700,
          1365,
          850,
          1100,
          1000,
          1500,
          1500,
          1700,
          1025,
          1050,
          1300,
          1500,
          1190,
          1224.5,
          3800,
          980,
          1325,
          1475,
          1100,
          1500,
          1225,
          1200,
          1500,
          1300,
          1250,
          850,
          1836,
          2000,
          1131.5,
          1300,
          1325,
          1300,
          1500,
          1100,
          1400,
          1025,
          1145,
          1050,
          1300,
          1500,
          1300,
          1325,
          1500,
          1200,
          1550,
          1800,
          1600,
          1200,
          1200,
          1600,
          790,
          1100,
          1100,
          1000,
          850,
          1100,
          1600,
          1400,
          3650,
          1650,
          1700,
          1400,
          950,
          1000,
          1400,
          1285,
          1700,
          1500,
          1000,
          1500,
          1750,
          1300,
          950,
          1400,
          1000,
          1725,
          1500,
          1400,
          1350,
          1300,
          1100,
          1617,
          1800,
          900,
          1450,
          1525,
          1245,
          1500,
          1150,
          1700,
          1300,
          1600,
          2500,
          1800,
          1500,
          1300,
          1325,
          2850,
          1900,
          1650,
          1100,
          1350,
          3900,
          1000,
          1335,
          1150,
          1500,
          1400,
          1450,
          1250,
          1300,
          1400,
          1500,
          1450,
          1500,
          1140,
          1200,
          1652.5,
          1300,
          1300,
          1400,
          1500,
          1500,
          1100,
          1700,
          1500,
          1225,
          2100,
          2350,
          1300,
          1450,
          1500,
          1500,
          700,
          1400,
          1200,
          1250,
          1600,
          1600,
          1266,
          1750,
          1600,
          1100,
          1200,
          1200,
          1200,
          1700,
          1200,
          1750,
          1100,
          1500,
          2200,
          2700,
          2100,
          1800,
          1950,
          1200,
          1575,
          1700,
          2000,
          1100,
          1400,
          3000,
          1800,
          1400,
          1200,
          1200,
          1100,
          1800,
          1500,
          2600,
          1200,
          1200,
          1100,
          1400,
          2500,
          2200,
          1450,
          1900,
          1300,
          1800,
          1450,
          950,
          1400,
          2450,
          1700,
          1200,
          1575,
          2000,
          1300,
          1700,
          1550,
          1400,
          1550,
          2500,
          1900,
          1600,
          1500,
          1200,
          1750,
          1200,
          1700,
          1400,
          2000,
          1550,
          1490,
          2500,
          1800,
          1200,
          1200,
          1650,
          2700,
          1700,
          800,
          1450,
          1700,
          1100,
          1625,
          1400,
          1200,
          2000,
          2000,
          1750,
          1595,
          1500,
          1800,
          2400,
          1400,
          900,
          1400,
          1200,
          1500,
          1345,
          2000,
          3700,
          1550,
          1400,
          1400,
          1250,
          2650,
          1800,
          1800,
          1315,
          1400,
          1210,
          1695,
          2150,
          1400,
          2300,
          1000,
          1105,
          2500,
          1900,
          1450,
          1500,
          1650,
          1200,
          1300,
          2500,
          2922.5,
          1500,
          2450,
          1775,
          2850,
          2850,
          1300,
          1525,
          1190,
          2200,
          1550,
          1321,
          1300,
          1650,
          1700,
          1500,
          1950,
          1550,
          1100,
          2245,
          1933.5,
          1350,
          1600,
          1800,
          1800,
          2000,
          1700,
          4000,
          2295,
          1200,
          1199.5,
          1300,
          1700,
          1825,
          1600,
          1250,
          1100,
          2200,
          1532,
          1450,
          5596.5,
          2750,
          1800,
          1260,
          1600,
          2200,
          1505,
          2450,
          2350,
          1850,
          1650,
          1350,
          1900,
          2650,
          1200,
          2600,
          1300,
          1000,
          2400,
          1900,
          1250,
          1550,
          1525,
          2350,
          2500,
          1900,
          1450,
          2350,
          2300,
          1950,
          1800,
          1500,
          4500,
          1927.5,
          1342,
          2250,
          1950,
          1850,
          1450,
          1850,
          1300,
          2900,
          1700,
          1400,
          2200,
          1540,
          1900,
          1200,
          2550,
          3300,
          2000,
          2625,
          2450,
          2200,
          2140,
          1500,
          2000,
          1600,
          2900,
          2072,
          2300,
          1600,
          1600,
          2200,
          1450,
          1500,
          1700,
          1600,
          1447,
          1975,
          2300,
          1200,
          2225,
          2700,
          1850,
          2350,
          2900,
          2500,
          1770,
          2200,
          1900,
          2100,
          2000,
          1982,
          2000,
          1450,
          2800,
          2200,
          1700,
          2200,
          1800,
          2100,
          1700,
          5500,
          2850,
          2000,
          2550,
          2400,
          1350,
          2225,
          2475,
          2450,
          1600,
          1600,
          2350,
          1100,
          2600,
          700,
          1600,
          2275,
          2800,
          1750,
          1550,
          1600,
          1500,
          2500,
          1850,
          2400,
          2800,
          1750,
          1300,
          1900,
          1750,
          1975,
          2000,
          1739,
          1500,
          1441,
          1850,
          2100,
          2150,
          2750,
          2200,
          1625,
          2500,
          1200,
          1400,
          1828,
          1100,
          1500,
          1800,
          1200,
          2900,
          2500,
          2200,
          2025,
          2500,
          2375,
          3500,
          1400,
          1700,
          1850,
          2220,
          1386,
          1700,
          2300,
          1400,
          2400,
          1600,
          2500,
          3400,
          2500,
          1100,
          1500,
          1990,
          2100,
          1600,
          2500,
          2000,
          3499,
          2200,
          3200,
          3580,
          1800,
          3100,
          2012.5,
          1000,
          5000,
          1600,
          2000,
          2500,
          2000,
          2750,
          2500,
          1800,
          1400,
          2525,
          3700,
          2350,
          2800,
          2000,
          2932.5,
          2450,
          6500,
          2650,
          2200,
          1500,
          4500,
          2699.5,
          1500,
          2500,
          2800,
          1800,
          1600,
          2499.5,
          2300,
          2300,
          2400,
          2000,
          1884,
          2600,
          3000,
          2000,
          3000,
          2500,
          2750,
          1800,
          2400,
          3000,
          2500,
          2500,
          2850,
          2700,
          1788,
          1115,
          3500,
          3950,
          1600,
          2400,
          5500,
          7300,
          1300,
          3150,
          2500,
          1900,
          900,
          2650,
          850,
          3725,
          2600,
          3800,
          4550,
          5750,
          2450,
          2100,
          2700,
          1500,
          2700,
          3050,
          1700,
          2500,
          2500,
          2500,
          4500,
          1750,
          6000,
          2400,
          2200,
          1700,
          2600,
          3500,
          1900,
          3300,
          2900,
          1600,
          2600,
          1890,
          4200,
          2400,
          4251,
          2700,
          2500,
          2200,
          3000,
          2500,
          4800,
          2120,
          1250,
          1625,
          2950,
          1750,
          1875,
          2500,
          2950,
          3090,
          2050,
          2300,
          2700,
          1500,
          2500,
          3800,
          3000,
          2900,
          3200,
          3900,
          2500,
          6000,
          2700,
          2500,
          2600,
          2900,
          2550,
          2300,
          2650,
          3400,
          2250,
          2400,
          3500,
          2600,
          2795,
          2000,
          1500,
          2400,
          3000,
          2800,
          3000,
          1900,
          2500,
          1300,
          1250,
          3500,
          4200,
          5000,
          3000,
          3100,
          2995,
          11066,
          4120,
          2600,
          2000,
          4293,
          2000,
          1500,
          3000,
          4500,
          6264,
          3800,
          1800,
          2950,
          1950,
          8100,
          1900,
          3800,
          5300,
          2500,
          1900,
          6500,
          2750,
          3000,
          4655,
          4000,
          4000,
          4500,
          2500,
          3350,
          3500,
          4500,
          1800,
          6000,
          5500,
          1400,
          2050,
          1800,
          3800,
          3150,
          4500,
          4000,
          1500,
          5000,
          3700,
          3000,
          5000,
          1500,
          2000,
          7300,
          5500,
          3500,
          3650,
          1800,
          4050,
          2600,
          2500,
          3800,
          4000,
          4500,
          3345,
          1800,
          5800,
          5800,
          6400,
          2600,
          4000,
          2000,
          5500,
          1797,
          5990,
          3500,
          2300,
          4000,
          2000,
          3500,
          2700,
          5000,
          4250,
          3500,
          1900,
          2500,
          4000,
          8000,
          7000,
          10000,
          6500,
          3520,
          7000,
          1800,
          5500,
          3200,
          3400,
          4000,
          3550,
          3000,
          3200,
          6000,
          3500,
          3600,
          2000,
          4000,
          5400,
          3650,
          4950,
          2000,
          3500,
          7100,
          3500,
          7000,
          4000,
          5000,
          4500,
          2450,
          4000,
          3500,
          11000,
          2500,
          5500,
          2590,
          6200,
          10000,
          2200,
          2700,
          5300,
          5300,
          3400,
          3500,
          3000,
          8000,
          3095,
          2713,
          3000,
          3150,
          6000,
          3750,
          3400,
          2200,
          5650,
          5250,
          5650,
          3000,
          3000,
          4500,
          2600,
          4500,
          3500,
          4500,
          3000,
          4000,
          3000,
          3700,
          2750,
          3500,
          8000,
          3000,
          4000,
          3800,
          4000,
          3800,
          12000,
          4500,
          6000,
          5000,
          1828,
          3000,
          3110,
          3000,
          7000,
          4800,
          2200,
          5500,
          10500,
          5300,
          2500,
          3500,
          4250,
          4000,
          9500,
          3650.5,
          4000,
          6000,
          5900,
          2625,
          3900,
          1900,
          5500,
          4300,
          4000,
          7000,
          2800,
          7000,
          4900,
          4600,
          3800,
          4500,
          1600,
          2900,
          4850,
          2200,
          6100,
          2800,
          4300,
          3000,
          2500,
          4000,
          3500,
          5349.5,
          25000,
          6000,
          5200,
          5000,
          5500,
          5000,
          2000,
          3800,
          6500,
          4630,
          4150,
          1372,
          4600,
          4000,
          5500,
          3800,
          3000,
          1600,
          6000,
          2500,
          10000,
          8300,
          3450,
          4100,
          3700,
          7250,
          9000,
          3500,
          9000,
          6110,
          3524,
          2500,
          11500,
          16000,
          4500,
          4250,
          4100,
          3500,
          5750,
          2700,
          5800,
          2500,
          3800,
          5500,
          3500,
          3900,
          3800,
          8000,
          2000,
          3800,
          7500,
          8000,
          3800,
          2500,
          6230,
          8200,
          3000,
          5750,
          7000,
          2800,
          10000,
          4000,
          1800,
          7437,
          10500,
          11500,
          14450,
          7200,
          15000,
          6000,
          4000,
          4500,
          4000,
          4000,
          6000,
          4000,
          4000,
          1400,
          3000,
          11500,
          12000,
          2650,
          6000,
          7700,
          5290,
          5000,
          6400,
          2700,
          7000,
          15000,
          5000,
          3000,
          6700,
          7800,
          6500,
          19000,
          6850,
          4000,
          6000,
          3000,
          3100,
          7500,
          11500,
          4500,
          3500,
          13000,
          17500,
          4000,
          15000,
          11000,
          5800,
          3500,
          6000,
          3100,
          13000,
          5800,
          4800,
          5000,
          5000,
          5000,
          7500,
          1699,
          6500,
          3990,
          2322,
          7349.5,
          9500,
          13000,
          7475,
          8100,
          10000,
          5500,
          2900,
          4500,
          22000,
          11500,
          11000,
          3950,
          5000,
          12000,
          8500,
          4800,
          7450,
          11000,
          8900,
          9000,
          1300,
          8500,
          9500,
          12000,
          4500,
          15000,
          8500,
          6500,
          7750,
          10000,
          8000,
          4700,
          8000,
          8000,
          10000,
          15000,
          5000,
          10000,
          3000,
          7506,
          6500,
          9000,
          3700,
          4450,
          8000,
          6000,
          10500,
          5500,
          7000,
          7000,
          10000,
          5500,
          5000,
          7500,
          10100,
          6000,
          5000,
          6500,
          3200,
          6000,
          1500,
          6000,
          4500,
          5000,
          5295,
          5500,
          8000,
          12000,
          6000,
          9000,
          8329,
          11000,
          6000,
          11000,
          3000,
          12000,
          16000,
          4000,
          9500,
          8000,
          8750,
          2000,
          5000,
          4000,
          8000,
          4700,
          6000,
          7500,
          25000,
          20000,
          9312,
          9500,
          3000,
          13500,
          6000,
          10000,
          11000,
          15000,
          2666,
          12000,
          10000,
          16500,
          5500,
          20000,
          13000,
          17000,
          6273,
          10000,
          5000,
          6000,
          5600,
          12000,
          11250,
          7500,
          18700,
          14850,
          14500,
          12000,
          6000,
          8800,
          8500,
          13500,
          20000,
          8217,
          12000,
          6500,
          9000,
          21500,
          20000,
          20000,
          3500,
          16000,
          7000,
          18000,
          23000,
          6500,
          14000,
          20000,
          11700,
          20000,
          8700,
          10000,
          8000,
          14000,
          6000,
          12000,
          16000,
          23000,
          25000,
          20000,
          14000,
          25000,
          2800,
          15000,
          14000,
          19900,
          15000,
          15000,
          8000,
          10000
         ],
         "yaxis": "y"
        }
       ],
       "layout": {
        "legend": {
         "tracegroupgap": 0
        },
        "template": {
         "data": {
          "bar": [
           {
            "error_x": {
             "color": "#2a3f5f"
            },
            "error_y": {
             "color": "#2a3f5f"
            },
            "marker": {
             "line": {
              "color": "#E5ECF6",
              "width": 0.5
             },
             "pattern": {
              "fillmode": "overlay",
              "size": 10,
              "solidity": 0.2
             }
            },
            "type": "bar"
           }
          ],
          "barpolar": [
           {
            "marker": {
             "line": {
              "color": "#E5ECF6",
              "width": 0.5
             },
             "pattern": {
              "fillmode": "overlay",
              "size": 10,
              "solidity": 0.2
             }
            },
            "type": "barpolar"
           }
          ],
          "carpet": [
           {
            "aaxis": {
             "endlinecolor": "#2a3f5f",
             "gridcolor": "white",
             "linecolor": "white",
             "minorgridcolor": "white",
             "startlinecolor": "#2a3f5f"
            },
            "baxis": {
             "endlinecolor": "#2a3f5f",
             "gridcolor": "white",
             "linecolor": "white",
             "minorgridcolor": "white",
             "startlinecolor": "#2a3f5f"
            },
            "type": "carpet"
           }
          ],
          "choropleth": [
           {
            "colorbar": {
             "outlinewidth": 0,
             "ticks": ""
            },
            "type": "choropleth"
           }
          ],
          "contour": [
           {
            "colorbar": {
             "outlinewidth": 0,
             "ticks": ""
            },
            "colorscale": [
             [
              0,
              "#0d0887"
             ],
             [
              0.1111111111111111,
              "#46039f"
             ],
             [
              0.2222222222222222,
              "#7201a8"
             ],
             [
              0.3333333333333333,
              "#9c179e"
             ],
             [
              0.4444444444444444,
              "#bd3786"
             ],
             [
              0.5555555555555556,
              "#d8576b"
             ],
             [
              0.6666666666666666,
              "#ed7953"
             ],
             [
              0.7777777777777778,
              "#fb9f3a"
             ],
             [
              0.8888888888888888,
              "#fdca26"
             ],
             [
              1,
              "#f0f921"
             ]
            ],
            "type": "contour"
           }
          ],
          "contourcarpet": [
           {
            "colorbar": {
             "outlinewidth": 0,
             "ticks": ""
            },
            "type": "contourcarpet"
           }
          ],
          "heatmap": [
           {
            "colorbar": {
             "outlinewidth": 0,
             "ticks": ""
            },
            "colorscale": [
             [
              0,
              "#0d0887"
             ],
             [
              0.1111111111111111,
              "#46039f"
             ],
             [
              0.2222222222222222,
              "#7201a8"
             ],
             [
              0.3333333333333333,
              "#9c179e"
             ],
             [
              0.4444444444444444,
              "#bd3786"
             ],
             [
              0.5555555555555556,
              "#d8576b"
             ],
             [
              0.6666666666666666,
              "#ed7953"
             ],
             [
              0.7777777777777778,
              "#fb9f3a"
             ],
             [
              0.8888888888888888,
              "#fdca26"
             ],
             [
              1,
              "#f0f921"
             ]
            ],
            "type": "heatmap"
           }
          ],
          "heatmapgl": [
           {
            "colorbar": {
             "outlinewidth": 0,
             "ticks": ""
            },
            "colorscale": [
             [
              0,
              "#0d0887"
             ],
             [
              0.1111111111111111,
              "#46039f"
             ],
             [
              0.2222222222222222,
              "#7201a8"
             ],
             [
              0.3333333333333333,
              "#9c179e"
             ],
             [
              0.4444444444444444,
              "#bd3786"
             ],
             [
              0.5555555555555556,
              "#d8576b"
             ],
             [
              0.6666666666666666,
              "#ed7953"
             ],
             [
              0.7777777777777778,
              "#fb9f3a"
             ],
             [
              0.8888888888888888,
              "#fdca26"
             ],
             [
              1,
              "#f0f921"
             ]
            ],
            "type": "heatmapgl"
           }
          ],
          "histogram": [
           {
            "marker": {
             "pattern": {
              "fillmode": "overlay",
              "size": 10,
              "solidity": 0.2
             }
            },
            "type": "histogram"
           }
          ],
          "histogram2d": [
           {
            "colorbar": {
             "outlinewidth": 0,
             "ticks": ""
            },
            "colorscale": [
             [
              0,
              "#0d0887"
             ],
             [
              0.1111111111111111,
              "#46039f"
             ],
             [
              0.2222222222222222,
              "#7201a8"
             ],
             [
              0.3333333333333333,
              "#9c179e"
             ],
             [
              0.4444444444444444,
              "#bd3786"
             ],
             [
              0.5555555555555556,
              "#d8576b"
             ],
             [
              0.6666666666666666,
              "#ed7953"
             ],
             [
              0.7777777777777778,
              "#fb9f3a"
             ],
             [
              0.8888888888888888,
              "#fdca26"
             ],
             [
              1,
              "#f0f921"
             ]
            ],
            "type": "histogram2d"
           }
          ],
          "histogram2dcontour": [
           {
            "colorbar": {
             "outlinewidth": 0,
             "ticks": ""
            },
            "colorscale": [
             [
              0,
              "#0d0887"
             ],
             [
              0.1111111111111111,
              "#46039f"
             ],
             [
              0.2222222222222222,
              "#7201a8"
             ],
             [
              0.3333333333333333,
              "#9c179e"
             ],
             [
              0.4444444444444444,
              "#bd3786"
             ],
             [
              0.5555555555555556,
              "#d8576b"
             ],
             [
              0.6666666666666666,
              "#ed7953"
             ],
             [
              0.7777777777777778,
              "#fb9f3a"
             ],
             [
              0.8888888888888888,
              "#fdca26"
             ],
             [
              1,
              "#f0f921"
             ]
            ],
            "type": "histogram2dcontour"
           }
          ],
          "mesh3d": [
           {
            "colorbar": {
             "outlinewidth": 0,
             "ticks": ""
            },
            "type": "mesh3d"
           }
          ],
          "parcoords": [
           {
            "line": {
             "colorbar": {
              "outlinewidth": 0,
              "ticks": ""
             }
            },
            "type": "parcoords"
           }
          ],
          "pie": [
           {
            "automargin": true,
            "type": "pie"
           }
          ],
          "scatter": [
           {
            "fillpattern": {
             "fillmode": "overlay",
             "size": 10,
             "solidity": 0.2
            },
            "type": "scatter"
           }
          ],
          "scatter3d": [
           {
            "line": {
             "colorbar": {
              "outlinewidth": 0,
              "ticks": ""
             }
            },
            "marker": {
             "colorbar": {
              "outlinewidth": 0,
              "ticks": ""
             }
            },
            "type": "scatter3d"
           }
          ],
          "scattercarpet": [
           {
            "marker": {
             "colorbar": {
              "outlinewidth": 0,
              "ticks": ""
             }
            },
            "type": "scattercarpet"
           }
          ],
          "scattergeo": [
           {
            "marker": {
             "colorbar": {
              "outlinewidth": 0,
              "ticks": ""
             }
            },
            "type": "scattergeo"
           }
          ],
          "scattergl": [
           {
            "marker": {
             "colorbar": {
              "outlinewidth": 0,
              "ticks": ""
             }
            },
            "type": "scattergl"
           }
          ],
          "scattermapbox": [
           {
            "marker": {
             "colorbar": {
              "outlinewidth": 0,
              "ticks": ""
             }
            },
            "type": "scattermapbox"
           }
          ],
          "scatterpolar": [
           {
            "marker": {
             "colorbar": {
              "outlinewidth": 0,
              "ticks": ""
             }
            },
            "type": "scatterpolar"
           }
          ],
          "scatterpolargl": [
           {
            "marker": {
             "colorbar": {
              "outlinewidth": 0,
              "ticks": ""
             }
            },
            "type": "scatterpolargl"
           }
          ],
          "scatterternary": [
           {
            "marker": {
             "colorbar": {
              "outlinewidth": 0,
              "ticks": ""
             }
            },
            "type": "scatterternary"
           }
          ],
          "surface": [
           {
            "colorbar": {
             "outlinewidth": 0,
             "ticks": ""
            },
            "colorscale": [
             [
              0,
              "#0d0887"
             ],
             [
              0.1111111111111111,
              "#46039f"
             ],
             [
              0.2222222222222222,
              "#7201a8"
             ],
             [
              0.3333333333333333,
              "#9c179e"
             ],
             [
              0.4444444444444444,
              "#bd3786"
             ],
             [
              0.5555555555555556,
              "#d8576b"
             ],
             [
              0.6666666666666666,
              "#ed7953"
             ],
             [
              0.7777777777777778,
              "#fb9f3a"
             ],
             [
              0.8888888888888888,
              "#fdca26"
             ],
             [
              1,
              "#f0f921"
             ]
            ],
            "type": "surface"
           }
          ],
          "table": [
           {
            "cells": {
             "fill": {
              "color": "#EBF0F8"
             },
             "line": {
              "color": "white"
             }
            },
            "header": {
             "fill": {
              "color": "#C8D4E3"
             },
             "line": {
              "color": "white"
             }
            },
            "type": "table"
           }
          ]
         },
         "layout": {
          "annotationdefaults": {
           "arrowcolor": "#2a3f5f",
           "arrowhead": 0,
           "arrowwidth": 1
          },
          "autotypenumbers": "strict",
          "coloraxis": {
           "colorbar": {
            "outlinewidth": 0,
            "ticks": ""
           }
          },
          "colorscale": {
           "diverging": [
            [
             0,
             "#8e0152"
            ],
            [
             0.1,
             "#c51b7d"
            ],
            [
             0.2,
             "#de77ae"
            ],
            [
             0.3,
             "#f1b6da"
            ],
            [
             0.4,
             "#fde0ef"
            ],
            [
             0.5,
             "#f7f7f7"
            ],
            [
             0.6,
             "#e6f5d0"
            ],
            [
             0.7,
             "#b8e186"
            ],
            [
             0.8,
             "#7fbc41"
            ],
            [
             0.9,
             "#4d9221"
            ],
            [
             1,
             "#276419"
            ]
           ],
           "sequential": [
            [
             0,
             "#0d0887"
            ],
            [
             0.1111111111111111,
             "#46039f"
            ],
            [
             0.2222222222222222,
             "#7201a8"
            ],
            [
             0.3333333333333333,
             "#9c179e"
            ],
            [
             0.4444444444444444,
             "#bd3786"
            ],
            [
             0.5555555555555556,
             "#d8576b"
            ],
            [
             0.6666666666666666,
             "#ed7953"
            ],
            [
             0.7777777777777778,
             "#fb9f3a"
            ],
            [
             0.8888888888888888,
             "#fdca26"
            ],
            [
             1,
             "#f0f921"
            ]
           ],
           "sequentialminus": [
            [
             0,
             "#0d0887"
            ],
            [
             0.1111111111111111,
             "#46039f"
            ],
            [
             0.2222222222222222,
             "#7201a8"
            ],
            [
             0.3333333333333333,
             "#9c179e"
            ],
            [
             0.4444444444444444,
             "#bd3786"
            ],
            [
             0.5555555555555556,
             "#d8576b"
            ],
            [
             0.6666666666666666,
             "#ed7953"
            ],
            [
             0.7777777777777778,
             "#fb9f3a"
            ],
            [
             0.8888888888888888,
             "#fdca26"
            ],
            [
             1,
             "#f0f921"
            ]
           ]
          },
          "colorway": [
           "#636efa",
           "#EF553B",
           "#00cc96",
           "#ab63fa",
           "#FFA15A",
           "#19d3f3",
           "#FF6692",
           "#B6E880",
           "#FF97FF",
           "#FECB52"
          ],
          "font": {
           "color": "#2a3f5f"
          },
          "geo": {
           "bgcolor": "white",
           "lakecolor": "white",
           "landcolor": "#E5ECF6",
           "showlakes": true,
           "showland": true,
           "subunitcolor": "white"
          },
          "hoverlabel": {
           "align": "left"
          },
          "hovermode": "closest",
          "mapbox": {
           "style": "light"
          },
          "paper_bgcolor": "white",
          "plot_bgcolor": "#E5ECF6",
          "polar": {
           "angularaxis": {
            "gridcolor": "white",
            "linecolor": "white",
            "ticks": ""
           },
           "bgcolor": "#E5ECF6",
           "radialaxis": {
            "gridcolor": "white",
            "linecolor": "white",
            "ticks": ""
           }
          },
          "scene": {
           "xaxis": {
            "backgroundcolor": "#E5ECF6",
            "gridcolor": "white",
            "gridwidth": 2,
            "linecolor": "white",
            "showbackground": true,
            "ticks": "",
            "zerolinecolor": "white"
           },
           "yaxis": {
            "backgroundcolor": "#E5ECF6",
            "gridcolor": "white",
            "gridwidth": 2,
            "linecolor": "white",
            "showbackground": true,
            "ticks": "",
            "zerolinecolor": "white"
           },
           "zaxis": {
            "backgroundcolor": "#E5ECF6",
            "gridcolor": "white",
            "gridwidth": 2,
            "linecolor": "white",
            "showbackground": true,
            "ticks": "",
            "zerolinecolor": "white"
           }
          },
          "shapedefaults": {
           "line": {
            "color": "#2a3f5f"
           }
          },
          "ternary": {
           "aaxis": {
            "gridcolor": "white",
            "linecolor": "white",
            "ticks": ""
           },
           "baxis": {
            "gridcolor": "white",
            "linecolor": "white",
            "ticks": ""
           },
           "bgcolor": "#E5ECF6",
           "caxis": {
            "gridcolor": "white",
            "linecolor": "white",
            "ticks": ""
           }
          },
          "title": {
           "x": 0.05
          },
          "xaxis": {
           "automargin": true,
           "gridcolor": "white",
           "linecolor": "white",
           "ticks": "",
           "title": {
            "standoff": 15
           },
           "zerolinecolor": "white",
           "zerolinewidth": 2
          },
          "yaxis": {
           "automargin": true,
           "gridcolor": "white",
           "linecolor": "white",
           "ticks": "",
           "title": {
            "standoff": 15
           },
           "zerolinecolor": "white",
           "zerolinewidth": 2
          }
         }
        },
        "title": {
         "text": "Valor mediano do aluguel por valor do condomínio"
        },
        "xaxis": {
         "anchor": "y",
         "domain": [
          0,
          1
         ],
         "title": {
          "text": "Valor_Condominio"
         }
        },
        "yaxis": {
         "anchor": "x",
         "domain": [
          0,
          1
         ],
         "title": {
          "text": "Valor do Aluguel"
         }
        }
       }
      }
     },
     "metadata": {},
     "output_type": "display_data"
    }
   ],
   "source": [
    "#Valor Aluguel x Valor Condomínio\n",
    "media_va_vc = df.groupby('Valor_Condominio')['Valor_Aluguel'].median().reset_index()\n",
    "\n",
    "fig = px.line(media_va_vc, x='Valor_Condominio', y='Valor_Aluguel',\n",
    "              title='Valor mediano do aluguel por valor do condomínio',\n",
    "              labels={'Valor_Aluguel': 'Valor do Aluguel', 'Valor_Condominio': 'Valor_Condominio'})\n",
    "fig.show()"
   ]
  },
  {
   "cell_type": "code",
   "execution_count": 71,
   "metadata": {},
   "outputs": [
    {
     "data": {
      "application/vnd.plotly.v1+json": {
       "config": {
        "plotlyServerURL": "https://plot.ly"
       },
       "data": [
        {
         "alignmentgroup": "True",
         "hovertemplate": "N_Suites=%{x}<br>Valor do Aluguel=%{y}<extra></extra>",
         "legendgroup": "",
         "marker": {
          "color": "#636efa",
          "pattern": {
           "shape": ""
          }
         },
         "name": "",
         "offsetgroup": "",
         "orientation": "v",
         "showlegend": false,
         "textposition": "auto",
         "type": "bar",
         "x": [
          0,
          1,
          2,
          3,
          4,
          5
         ],
         "xaxis": "x",
         "y": [
          1500,
          1900,
          5000,
          5900,
          10000,
          16000
         ],
         "yaxis": "y"
        }
       ],
       "layout": {
        "barmode": "relative",
        "legend": {
         "tracegroupgap": 0
        },
        "template": {
         "data": {
          "bar": [
           {
            "error_x": {
             "color": "#2a3f5f"
            },
            "error_y": {
             "color": "#2a3f5f"
            },
            "marker": {
             "line": {
              "color": "#E5ECF6",
              "width": 0.5
             },
             "pattern": {
              "fillmode": "overlay",
              "size": 10,
              "solidity": 0.2
             }
            },
            "type": "bar"
           }
          ],
          "barpolar": [
           {
            "marker": {
             "line": {
              "color": "#E5ECF6",
              "width": 0.5
             },
             "pattern": {
              "fillmode": "overlay",
              "size": 10,
              "solidity": 0.2
             }
            },
            "type": "barpolar"
           }
          ],
          "carpet": [
           {
            "aaxis": {
             "endlinecolor": "#2a3f5f",
             "gridcolor": "white",
             "linecolor": "white",
             "minorgridcolor": "white",
             "startlinecolor": "#2a3f5f"
            },
            "baxis": {
             "endlinecolor": "#2a3f5f",
             "gridcolor": "white",
             "linecolor": "white",
             "minorgridcolor": "white",
             "startlinecolor": "#2a3f5f"
            },
            "type": "carpet"
           }
          ],
          "choropleth": [
           {
            "colorbar": {
             "outlinewidth": 0,
             "ticks": ""
            },
            "type": "choropleth"
           }
          ],
          "contour": [
           {
            "colorbar": {
             "outlinewidth": 0,
             "ticks": ""
            },
            "colorscale": [
             [
              0,
              "#0d0887"
             ],
             [
              0.1111111111111111,
              "#46039f"
             ],
             [
              0.2222222222222222,
              "#7201a8"
             ],
             [
              0.3333333333333333,
              "#9c179e"
             ],
             [
              0.4444444444444444,
              "#bd3786"
             ],
             [
              0.5555555555555556,
              "#d8576b"
             ],
             [
              0.6666666666666666,
              "#ed7953"
             ],
             [
              0.7777777777777778,
              "#fb9f3a"
             ],
             [
              0.8888888888888888,
              "#fdca26"
             ],
             [
              1,
              "#f0f921"
             ]
            ],
            "type": "contour"
           }
          ],
          "contourcarpet": [
           {
            "colorbar": {
             "outlinewidth": 0,
             "ticks": ""
            },
            "type": "contourcarpet"
           }
          ],
          "heatmap": [
           {
            "colorbar": {
             "outlinewidth": 0,
             "ticks": ""
            },
            "colorscale": [
             [
              0,
              "#0d0887"
             ],
             [
              0.1111111111111111,
              "#46039f"
             ],
             [
              0.2222222222222222,
              "#7201a8"
             ],
             [
              0.3333333333333333,
              "#9c179e"
             ],
             [
              0.4444444444444444,
              "#bd3786"
             ],
             [
              0.5555555555555556,
              "#d8576b"
             ],
             [
              0.6666666666666666,
              "#ed7953"
             ],
             [
              0.7777777777777778,
              "#fb9f3a"
             ],
             [
              0.8888888888888888,
              "#fdca26"
             ],
             [
              1,
              "#f0f921"
             ]
            ],
            "type": "heatmap"
           }
          ],
          "heatmapgl": [
           {
            "colorbar": {
             "outlinewidth": 0,
             "ticks": ""
            },
            "colorscale": [
             [
              0,
              "#0d0887"
             ],
             [
              0.1111111111111111,
              "#46039f"
             ],
             [
              0.2222222222222222,
              "#7201a8"
             ],
             [
              0.3333333333333333,
              "#9c179e"
             ],
             [
              0.4444444444444444,
              "#bd3786"
             ],
             [
              0.5555555555555556,
              "#d8576b"
             ],
             [
              0.6666666666666666,
              "#ed7953"
             ],
             [
              0.7777777777777778,
              "#fb9f3a"
             ],
             [
              0.8888888888888888,
              "#fdca26"
             ],
             [
              1,
              "#f0f921"
             ]
            ],
            "type": "heatmapgl"
           }
          ],
          "histogram": [
           {
            "marker": {
             "pattern": {
              "fillmode": "overlay",
              "size": 10,
              "solidity": 0.2
             }
            },
            "type": "histogram"
           }
          ],
          "histogram2d": [
           {
            "colorbar": {
             "outlinewidth": 0,
             "ticks": ""
            },
            "colorscale": [
             [
              0,
              "#0d0887"
             ],
             [
              0.1111111111111111,
              "#46039f"
             ],
             [
              0.2222222222222222,
              "#7201a8"
             ],
             [
              0.3333333333333333,
              "#9c179e"
             ],
             [
              0.4444444444444444,
              "#bd3786"
             ],
             [
              0.5555555555555556,
              "#d8576b"
             ],
             [
              0.6666666666666666,
              "#ed7953"
             ],
             [
              0.7777777777777778,
              "#fb9f3a"
             ],
             [
              0.8888888888888888,
              "#fdca26"
             ],
             [
              1,
              "#f0f921"
             ]
            ],
            "type": "histogram2d"
           }
          ],
          "histogram2dcontour": [
           {
            "colorbar": {
             "outlinewidth": 0,
             "ticks": ""
            },
            "colorscale": [
             [
              0,
              "#0d0887"
             ],
             [
              0.1111111111111111,
              "#46039f"
             ],
             [
              0.2222222222222222,
              "#7201a8"
             ],
             [
              0.3333333333333333,
              "#9c179e"
             ],
             [
              0.4444444444444444,
              "#bd3786"
             ],
             [
              0.5555555555555556,
              "#d8576b"
             ],
             [
              0.6666666666666666,
              "#ed7953"
             ],
             [
              0.7777777777777778,
              "#fb9f3a"
             ],
             [
              0.8888888888888888,
              "#fdca26"
             ],
             [
              1,
              "#f0f921"
             ]
            ],
            "type": "histogram2dcontour"
           }
          ],
          "mesh3d": [
           {
            "colorbar": {
             "outlinewidth": 0,
             "ticks": ""
            },
            "type": "mesh3d"
           }
          ],
          "parcoords": [
           {
            "line": {
             "colorbar": {
              "outlinewidth": 0,
              "ticks": ""
             }
            },
            "type": "parcoords"
           }
          ],
          "pie": [
           {
            "automargin": true,
            "type": "pie"
           }
          ],
          "scatter": [
           {
            "fillpattern": {
             "fillmode": "overlay",
             "size": 10,
             "solidity": 0.2
            },
            "type": "scatter"
           }
          ],
          "scatter3d": [
           {
            "line": {
             "colorbar": {
              "outlinewidth": 0,
              "ticks": ""
             }
            },
            "marker": {
             "colorbar": {
              "outlinewidth": 0,
              "ticks": ""
             }
            },
            "type": "scatter3d"
           }
          ],
          "scattercarpet": [
           {
            "marker": {
             "colorbar": {
              "outlinewidth": 0,
              "ticks": ""
             }
            },
            "type": "scattercarpet"
           }
          ],
          "scattergeo": [
           {
            "marker": {
             "colorbar": {
              "outlinewidth": 0,
              "ticks": ""
             }
            },
            "type": "scattergeo"
           }
          ],
          "scattergl": [
           {
            "marker": {
             "colorbar": {
              "outlinewidth": 0,
              "ticks": ""
             }
            },
            "type": "scattergl"
           }
          ],
          "scattermapbox": [
           {
            "marker": {
             "colorbar": {
              "outlinewidth": 0,
              "ticks": ""
             }
            },
            "type": "scattermapbox"
           }
          ],
          "scatterpolar": [
           {
            "marker": {
             "colorbar": {
              "outlinewidth": 0,
              "ticks": ""
             }
            },
            "type": "scatterpolar"
           }
          ],
          "scatterpolargl": [
           {
            "marker": {
             "colorbar": {
              "outlinewidth": 0,
              "ticks": ""
             }
            },
            "type": "scatterpolargl"
           }
          ],
          "scatterternary": [
           {
            "marker": {
             "colorbar": {
              "outlinewidth": 0,
              "ticks": ""
             }
            },
            "type": "scatterternary"
           }
          ],
          "surface": [
           {
            "colorbar": {
             "outlinewidth": 0,
             "ticks": ""
            },
            "colorscale": [
             [
              0,
              "#0d0887"
             ],
             [
              0.1111111111111111,
              "#46039f"
             ],
             [
              0.2222222222222222,
              "#7201a8"
             ],
             [
              0.3333333333333333,
              "#9c179e"
             ],
             [
              0.4444444444444444,
              "#bd3786"
             ],
             [
              0.5555555555555556,
              "#d8576b"
             ],
             [
              0.6666666666666666,
              "#ed7953"
             ],
             [
              0.7777777777777778,
              "#fb9f3a"
             ],
             [
              0.8888888888888888,
              "#fdca26"
             ],
             [
              1,
              "#f0f921"
             ]
            ],
            "type": "surface"
           }
          ],
          "table": [
           {
            "cells": {
             "fill": {
              "color": "#EBF0F8"
             },
             "line": {
              "color": "white"
             }
            },
            "header": {
             "fill": {
              "color": "#C8D4E3"
             },
             "line": {
              "color": "white"
             }
            },
            "type": "table"
           }
          ]
         },
         "layout": {
          "annotationdefaults": {
           "arrowcolor": "#2a3f5f",
           "arrowhead": 0,
           "arrowwidth": 1
          },
          "autotypenumbers": "strict",
          "coloraxis": {
           "colorbar": {
            "outlinewidth": 0,
            "ticks": ""
           }
          },
          "colorscale": {
           "diverging": [
            [
             0,
             "#8e0152"
            ],
            [
             0.1,
             "#c51b7d"
            ],
            [
             0.2,
             "#de77ae"
            ],
            [
             0.3,
             "#f1b6da"
            ],
            [
             0.4,
             "#fde0ef"
            ],
            [
             0.5,
             "#f7f7f7"
            ],
            [
             0.6,
             "#e6f5d0"
            ],
            [
             0.7,
             "#b8e186"
            ],
            [
             0.8,
             "#7fbc41"
            ],
            [
             0.9,
             "#4d9221"
            ],
            [
             1,
             "#276419"
            ]
           ],
           "sequential": [
            [
             0,
             "#0d0887"
            ],
            [
             0.1111111111111111,
             "#46039f"
            ],
            [
             0.2222222222222222,
             "#7201a8"
            ],
            [
             0.3333333333333333,
             "#9c179e"
            ],
            [
             0.4444444444444444,
             "#bd3786"
            ],
            [
             0.5555555555555556,
             "#d8576b"
            ],
            [
             0.6666666666666666,
             "#ed7953"
            ],
            [
             0.7777777777777778,
             "#fb9f3a"
            ],
            [
             0.8888888888888888,
             "#fdca26"
            ],
            [
             1,
             "#f0f921"
            ]
           ],
           "sequentialminus": [
            [
             0,
             "#0d0887"
            ],
            [
             0.1111111111111111,
             "#46039f"
            ],
            [
             0.2222222222222222,
             "#7201a8"
            ],
            [
             0.3333333333333333,
             "#9c179e"
            ],
            [
             0.4444444444444444,
             "#bd3786"
            ],
            [
             0.5555555555555556,
             "#d8576b"
            ],
            [
             0.6666666666666666,
             "#ed7953"
            ],
            [
             0.7777777777777778,
             "#fb9f3a"
            ],
            [
             0.8888888888888888,
             "#fdca26"
            ],
            [
             1,
             "#f0f921"
            ]
           ]
          },
          "colorway": [
           "#636efa",
           "#EF553B",
           "#00cc96",
           "#ab63fa",
           "#FFA15A",
           "#19d3f3",
           "#FF6692",
           "#B6E880",
           "#FF97FF",
           "#FECB52"
          ],
          "font": {
           "color": "#2a3f5f"
          },
          "geo": {
           "bgcolor": "white",
           "lakecolor": "white",
           "landcolor": "#E5ECF6",
           "showlakes": true,
           "showland": true,
           "subunitcolor": "white"
          },
          "hoverlabel": {
           "align": "left"
          },
          "hovermode": "closest",
          "mapbox": {
           "style": "light"
          },
          "paper_bgcolor": "white",
          "plot_bgcolor": "#E5ECF6",
          "polar": {
           "angularaxis": {
            "gridcolor": "white",
            "linecolor": "white",
            "ticks": ""
           },
           "bgcolor": "#E5ECF6",
           "radialaxis": {
            "gridcolor": "white",
            "linecolor": "white",
            "ticks": ""
           }
          },
          "scene": {
           "xaxis": {
            "backgroundcolor": "#E5ECF6",
            "gridcolor": "white",
            "gridwidth": 2,
            "linecolor": "white",
            "showbackground": true,
            "ticks": "",
            "zerolinecolor": "white"
           },
           "yaxis": {
            "backgroundcolor": "#E5ECF6",
            "gridcolor": "white",
            "gridwidth": 2,
            "linecolor": "white",
            "showbackground": true,
            "ticks": "",
            "zerolinecolor": "white"
           },
           "zaxis": {
            "backgroundcolor": "#E5ECF6",
            "gridcolor": "white",
            "gridwidth": 2,
            "linecolor": "white",
            "showbackground": true,
            "ticks": "",
            "zerolinecolor": "white"
           }
          },
          "shapedefaults": {
           "line": {
            "color": "#2a3f5f"
           }
          },
          "ternary": {
           "aaxis": {
            "gridcolor": "white",
            "linecolor": "white",
            "ticks": ""
           },
           "baxis": {
            "gridcolor": "white",
            "linecolor": "white",
            "ticks": ""
           },
           "bgcolor": "#E5ECF6",
           "caxis": {
            "gridcolor": "white",
            "linecolor": "white",
            "ticks": ""
           }
          },
          "title": {
           "x": 0.05
          },
          "xaxis": {
           "automargin": true,
           "gridcolor": "white",
           "linecolor": "white",
           "ticks": "",
           "title": {
            "standoff": 15
           },
           "zerolinecolor": "white",
           "zerolinewidth": 2
          },
          "yaxis": {
           "automargin": true,
           "gridcolor": "white",
           "linecolor": "white",
           "ticks": "",
           "title": {
            "standoff": 15
           },
           "zerolinecolor": "white",
           "zerolinewidth": 2
          }
         }
        },
        "title": {
         "text": "Valor mediano do aluguel por número de suítes"
        },
        "xaxis": {
         "anchor": "y",
         "domain": [
          0,
          1
         ],
         "title": {
          "text": "N_Suites"
         }
        },
        "yaxis": {
         "anchor": "x",
         "domain": [
          0,
          1
         ],
         "title": {
          "text": "Valor do Aluguel"
         }
        }
       }
      }
     },
     "metadata": {},
     "output_type": "display_data"
    }
   ],
   "source": [
    "media_va_suites = df.groupby('N_Suites')['Valor_Aluguel'].median().reset_index()\n",
    "\n",
    "fig = px.bar(media_va_suites, x='N_Suites', y='Valor_Aluguel',\n",
    "              title='Valor mediano do aluguel por número de suítes',\n",
    "              labels={'Valor_Aluguel': 'Valor do Aluguel', 'N_Suites': 'N_Suites'})\n",
    "fig.show()"
   ]
  },
  {
   "cell_type": "markdown",
   "metadata": {},
   "source": [
    "Percebemos através das análises que após um certo valor de aluguel (por volta dos 6k), os dados começam a ficar mais instáveis, podendo prejudicar as análises futuramente, porém sempre com uma relação positiva nos aluguéis menores, onde o valor do aluguel sobe juntamente com as outras variáveis"
   ]
  },
  {
   "cell_type": "markdown",
   "metadata": {
    "id": "4IYCHFPhgW0p"
   },
   "source": [
    "# 3 - Realize a terceira etapa de pré processamento dos dados.\n",
    "\n",
    "A) Comece pela correlação, que sabemos ser uma parte importante para nosso pré processamento e análise. Plote o gráfico ou a tabela e indique as variáveis que te parecem mais \"fortes\" na correlação para nosso modelo.\n",
    "\n",
    "\n"
   ]
  },
  {
   "cell_type": "code",
   "execution_count": 72,
   "metadata": {
    "id": "AcQzYGGug3uI"
   },
   "outputs": [
    {
     "data": {
      "image/png": "[encoded data removed]",
      "text/plain": [
       "<Figure size 640x480 with 2 Axes>"
      ]
     },
     "metadata": {},
     "output_type": "display_data"
    }
   ],
   "source": [
    "correlation_matriz = df.select_dtypes(include=['number']).corr()\n",
    "\n",
    "sns.heatmap(correlation_matriz, annot=True, cmap='coolwarm', fmt=\".2f\", annot_kws={\"size\":10})\n",
    "plt.title('Matriz de Correlação')\n",
    "plt.show()"
   ]
  },
  {
   "cell_type": "markdown",
   "metadata": {},
   "source": [
    "Com o gráfico de correlação percebemos que quase todas as variáveis possuem relação entre si, com excessão do número de quartos, que apresenta relação de 0.41."
   ]
  },
  {
   "cell_type": "markdown",
   "metadata": {
    "id": "h1SImppph54i"
   },
   "source": [
    "\n",
    "B) Durante a aula, por nossa base ser pequena e demonstrativa não realizamos a separação de treino e teste, porém para as atividades do dia dia temos que fazer, nesse exercício separe treino e teste.\n",
    "\n",
    "Lembre-se que primeiro separamos as variaveis dependentes X e depois Y, essa etapa deixarei para vocês abaixo:"
   ]
  },
  {
   "cell_type": "code",
   "execution_count": 73,
   "metadata": {
    "id": "Mru_MQZeiPRE"
   },
   "outputs": [],
   "source": [
    "X = df.drop('Valor_Aluguel', axis=1) #Separando X - Todas variáveis exceto valor_aluguel\n",
    "y = df['Valor_Aluguel'] #Separando Y (Apenas variavel valor_aluguel)"
   ]
  },
  {
   "cell_type": "markdown",
   "metadata": {
    "id": "SrlKsnRw0qa4"
   },
   "source": [
    "Dica: Para separar em treino e teste usamos o train_test_split, como visto nas aulas de pré modelagem."
   ]
  },
  {
   "cell_type": "code",
   "execution_count": 74,
   "metadata": {
    "id": "rgG6P6BKift7"
   },
   "outputs": [],
   "source": [
    "X_train, X_test, y_train, y_test = train_test_split(X, y, test_size=0.25, random_state=42)"
   ]
  },
  {
   "cell_type": "markdown",
   "metadata": {
    "id": "77TojDBwikJK"
   },
   "source": [
    "# 3 - Treine um modelo de regressão Linear simples\n",
    "\n",
    "A) Vamos utilizar apenas X_train e y_train para rodar um modelo de regressão linea simples e para isso usaremos apenas uma váriavel, a váriavel metragem."
   ]
  },
  {
   "cell_type": "code",
   "execution_count": 75,
   "metadata": {
    "id": "eCdg676i2AuL"
   },
   "outputs": [],
   "source": [
    "X = X_train[['Metragem']]  # Variável independente (características)\n",
    "y = y_train  # Variável dependente (rótulo)"
   ]
  },
  {
   "cell_type": "code",
   "execution_count": 76,
   "metadata": {
    "id": "jjtZ4SLxj7ia"
   },
   "outputs": [
    {
     "name": "stdout",
     "output_type": "stream",
     "text": [
      "Valor do coeficiente linear:  -103.17820863080169 Valor do coeficiente variável:  [34.70818769]\n"
     ]
    }
   ],
   "source": [
    "regressao_valoraluguel = LinearRegression()\n",
    "\n",
    "regressao_valoraluguel.fit(X,y)\n",
    "ri = regressao_valoraluguel.intercept_\n",
    "rc = regressao_valoraluguel.coef_\n",
    "print(\"Valor do coeficiente linear: \", ri, \"Valor do coeficiente variável: \", rc)"
   ]
  },
  {
   "cell_type": "markdown",
   "metadata": {
    "id": "_P87bqygj-6P"
   },
   "source": [
    "B) Plote o intercept_ e coef_ e monte de forma extensa a equação da reta."
   ]
  },
  {
   "cell_type": "code",
   "execution_count": 77,
   "metadata": {
    "id": "mrxLgMRCj-bH"
   },
   "outputs": [
    {
     "name": "stdout",
     "output_type": "stream",
     "text": [
      "Valor do coeficiente linear:  -103.17820863080169 Valor do coeficiente variável:  [34.70818769]\n"
     ]
    }
   ],
   "source": [
    "print(\"Valor do coeficiente linear: \", ri, \"Valor do coeficiente variável: \", rc)\n",
    "\n",
    "#Valor_Aluguel é igual a -103.178 vezes a Metragem mais 34.70818769"
   ]
  },
  {
   "cell_type": "markdown",
   "metadata": {
    "id": "oAC0rTgMkQg2"
   },
   "source": [
    "Nossa equação seria:  "
   ]
  },
  {
   "cell_type": "markdown",
   "metadata": {},
   "source": [
    "Valor_Aluguel = -103.178*(Metragem) + 34.70818769"
   ]
  },
  {
   "cell_type": "markdown",
   "metadata": {
    "id": "xkLB1oIslsue"
   },
   "source": [
    "c) Calcule o R quadrado para o modelo de treinamento. Não esqueça de avaliar e trazer em formato de insight se esse resultado te parece bom ou não."
   ]
  },
  {
   "cell_type": "code",
   "execution_count": 78,
   "metadata": {
    "id": "hxYyDUKPl5Pv"
   },
   "outputs": [
    {
     "data": {
      "text/plain": [
       "0.5213271756253639"
      ]
     },
     "execution_count": 78,
     "metadata": {},
     "output_type": "execute_result"
    }
   ],
   "source": [
    "regressao_valoraluguel.score(X,y)"
   ]
  },
  {
   "cell_type": "markdown",
   "metadata": {
    "id": "kEyD1z5al-us"
   },
   "source": [
    "D) Plote o gráfico da reta de regressão encontrada e traga insights acerca da dispersão dos pontos e ajuste da reta."
   ]
  },
  {
   "cell_type": "code",
   "execution_count": 79,
   "metadata": {
    "id": "uNzpvfPzl-G2"
   },
   "outputs": [
    {
     "data": {
      "image/png": "[encoded data removed]",
      "text/plain": [
       "<Figure size 640x480 with 1 Axes>"
      ]
     },
     "metadata": {},
     "output_type": "display_data"
    }
   ],
   "source": [
    "plt.scatter(X, y, color='blue', label='Dados Originais')\n",
    "\n",
    "plt.plot(X, regressao_valoraluguel.predict(X), color='red', label='Linha de regressão')\n",
    "plt.legend()\n",
    "plt.show()"
   ]
  },
  {
   "cell_type": "markdown",
   "metadata": {},
   "source": [
    "Com o R2 e o gráfico, percebemos que o modelo não se ajustou tão bem quanto esperado, porém isso provavelmente se deve ao fato dos valores extremos serem muito irregulare, talvez uma outra análise com os valores maiores ajustados, facilitariam a previsão do modelo."
   ]
  },
  {
   "cell_type": "markdown",
   "metadata": {
    "id": "Wobb2wkJmMTy"
   },
   "source": [
    "E) Para finalizar vamos aplicar o modelo a base de teste. Essa etapa é nova, então agora vocês avaliaram como o modelo treinado se saiu com a base de testes.\n",
    "Para isso altere no código abaixo o nome do seu modelo de regressão:"
   ]
  },
  {
   "cell_type": "code",
   "execution_count": 80,
   "metadata": {
    "id": "TkWeqCSSm43Y"
   },
   "outputs": [],
   "source": [
    "X_test = X_test[['Metragem']]  # Variável independente (características)\n",
    "y_test = y_test  # Variável dependente (rótulo)"
   ]
  },
  {
   "cell_type": "code",
   "execution_count": 81,
   "metadata": {
    "colab": {
     "base_uri": "https://localhost:8080/"
    },
    "id": "STQ56BJimwnB",
    "outputId": "9f83cc8c-f976-46c6-db04-fa413b265fc7"
   },
   "outputs": [
    {
     "name": "stdout",
     "output_type": "stream",
     "text": [
      "Coeficiente de Determinação (R²) nos Dados de Teste: 0.5651600449476675\n"
     ]
    }
   ],
   "source": [
    "# Usando o modelo treinado para fazer previsões sobre os dados de teste\n",
    "previsoes = regressao_valoraluguel.predict(X_test)\n",
    "\n",
    "# Avaliando o desempenho do modelo usando métricas como o R²\n",
    "r2 = regressao_valoraluguel.score(X_test, y_test)\n",
    "\n",
    "print(\"Coeficiente de Determinação (R²) nos Dados de Teste:\", r2)\n"
   ]
  },
  {
   "cell_type": "markdown",
   "metadata": {
    "id": "G85ffYcDnI2g"
   },
   "source": [
    "Se o valor do coeficiente de determinação (R²) para os dados de treinamento for melhor (ou seja, mais próximo de 1) do que o R² para os dados de teste, isso sugere que o modelo está superajustado aos dados de treinamento. Isso significa que o modelo pode estar se ajustando muito bem aos padrões específicos nos dados de treinamento, mas pode não generalizar bem para novos dados que não foram vistos durante o treinamento.\n",
    "\n",
    "Por outro lado, se o R² para os dados de teste for melhor do que o R² para os dados de treinamento, isso pode ser indicativo de que o modelo está subajustado. Isso significa que o modelo não está se ajustando adequadamente aos padrões nos dados de treinamento e não está capturando a relação entre as variáveis independentes e dependentes de forma eficaz.\n",
    "\n",
    "Idealmente, gostaríamos que o valor do R² fosse consistente entre os dados de treinamento e teste, indicando que o modelo é capaz de generalizar bem para novos dados. Se houver uma grande diferença entre os valores de R² para os dados de treinamento e teste, isso sugere que o modelo pode precisar de ajustes para melhorar sua capacidade de generalização."
   ]
  },
  {
   "cell_type": "markdown",
   "metadata": {
    "id": "A3jBA92CnYW2"
   },
   "source": [
    "F) Avalie com suas palavras o valor do r quadrado encontrado no treino e no teste."
   ]
  },
  {
   "cell_type": "markdown",
   "metadata": {
    "id": "HmzMUCkHtneW"
   },
   "source": [
    "O resultado foi satisfatório, pois o resultado do modelo de teste e treino não foram tão diferentes, indicando uma efetividade do modelo"
   ]
  },
  {
   "cell_type": "markdown",
   "metadata": {
    "id": "QdoaCiZ5nlBU"
   },
   "source": [
    "# 4 - Aplicação do modelo de regressão linear multipla!\n",
    "\n",
    "A) Vamos refazer os passos anteriores porém para regressão multipla, com todas variáveis dependentes. Comece separando a base treino e teste, dessa vez com todas variáveis para X."
   ]
  },
  {
   "cell_type": "markdown",
   "metadata": {
    "id": "sajQpsBo2Yfm"
   },
   "source": [
    "Aqui é só refazer os passos do exercicio 3 porém ao invés de trazer para X apenas metragem, você deve trazer todas colunas (exceto a valor do aluguel)."
   ]
  },
  {
   "cell_type": "code",
   "execution_count": null,
   "metadata": {
    "id": "VWjL8sw-n5om"
   },
   "outputs": [],
   "source": [
    "X = df.drop('Valor_Aluguel', axis=1)\n",
    "y = df['Valor_Aluguel']"
   ]
  },
  {
   "cell_type": "markdown",
   "metadata": {
    "id": "Wh1i-TipoMA8"
   },
   "source": [
    "B) Faça o modelo de regressão linear multipla aplicado só a base de treino."
   ]
  },
  {
   "cell_type": "code",
   "execution_count": 110,
   "metadata": {
    "id": "rVhYHDwBoWdi"
   },
   "outputs": [
    {
     "name": "stdout",
     "output_type": "stream",
     "text": [
      "                            OLS Regression Results                            \n",
      "==============================================================================\n",
      "Dep. Variable:          Valor_Aluguel   R-squared:                       0.516\n",
      "Model:                            OLS   Adj. R-squared:                  0.515\n",
      "Method:                 Least Squares   F-statistic:                     4309.\n",
      "Date:                Mon, 19 May 2025   Prob (F-statistic):               0.00\n",
      "Time:                        16:45:01   Log-Likelihood:                -36515.\n",
      "No. Observations:                4051   AIC:                         7.303e+04\n",
      "Df Residuals:                    4049   BIC:                         7.305e+04\n",
      "Df Model:                           1                                         \n",
      "Covariance Type:            nonrobust                                         \n",
      "==============================================================================\n",
      "                 coef    std err          t      P>|t|      [0.025      0.975]\n",
      "------------------------------------------------------------------------------\n",
      "const        -72.3519     55.741     -1.298      0.194    -181.636      36.932\n",
      "Metragem      34.1636      0.520     65.640      0.000      33.143      35.184\n",
      "==============================================================================\n",
      "Omnibus:                     2083.080   Durbin-Watson:                   1.963\n",
      "Prob(Omnibus):                  0.000   Jarque-Bera (JB):            43588.445\n",
      "Skew:                           1.978   Prob(JB):                         0.00\n",
      "Kurtosis:                      18.575   Cond. No.                         191.\n",
      "==============================================================================\n",
      "\n",
      "Notes:\n",
      "[1] Standard Errors assume that the covariance matrix of the errors is correctly specified.\n"
     ]
    }
   ],
   "source": [
    "import statsmodels.api as sm\n",
    "\n",
    "X_train, X_test, y_train, y_test = train_test_split(X, y, test_size=0.25, random_state=42)\n",
    "\n",
    "X_train_const = sm.add_constant(X_train)\n",
    "\n",
    "modelo_stats = sm.OLS(y, X)\n",
    "resultado = modelo.fit()\n",
    "\n",
    "print(resultado.summary())"
   ]
  },
  {
   "cell_type": "markdown",
   "metadata": {
    "id": "fGdwOhEqocUq"
   },
   "source": [
    "C) Traga o valor do R quadrado e avalie o valor encontrado."
   ]
  },
  {
   "cell_type": "code",
   "execution_count": 109,
   "metadata": {
    "colab": {
     "base_uri": "https://localhost:8080/"
    },
    "id": "NOdN7bnQobW-",
    "outputId": "ea7e2ff2-a8d1-4638-f395-b769129b796f"
   },
   "outputs": [
    {
     "name": "stdout",
     "output_type": "stream",
     "text": [
      "0.5155351213822478\n"
     ]
    }
   ],
   "source": [
    "r2_treino = resultado.rsquared\n",
    "\n",
    "print(r2_treino)"
   ]
  },
  {
   "cell_type": "markdown",
   "metadata": {},
   "source": [
    "O resultado de 0.53 indica uma baixa efetividade do modelo ao se ajustar."
   ]
  },
  {
   "cell_type": "markdown",
   "metadata": {
    "id": "GOhG7Lv4onxE"
   },
   "source": [
    "D) Para finalizar aplique o modelo a base de teste e traga o r quadrado de teste.\n",
    "Dica: Você pode usar os códigos do exercício anterior."
   ]
  },
  {
   "cell_type": "code",
   "execution_count": 108,
   "metadata": {
    "colab": {
     "base_uri": "https://localhost:8080/"
    },
    "id": "V8AZ-teGoutC",
    "outputId": "6f281237-4dbf-4921-fee3-a379afb212d6"
   },
   "outputs": [
    {
     "name": "stdout",
     "output_type": "stream",
     "text": [
      "0.5368375138514603\n"
     ]
    }
   ],
   "source": [
    "X_test_const = sm.add_constant(X_test)\n",
    "\n",
    "y_pred = resultado.predict(X_test_const)\n",
    "\n",
    "r2_teste = r2_score(y_test, y_pred)\n",
    "\n",
    "print(r2_teste)"
   ]
  },
  {
   "cell_type": "markdown",
   "metadata": {
    "id": "zgS4MZwFo16J"
   },
   "source": [
    "E) Compare os r quadrados encontrados pela regressão linear e pela regressão múltipla. Qual modelo te parece melhor? Por qual motivo acredita que isso ocorreu?"
   ]
  },
  {
   "cell_type": "markdown",
   "metadata": {
    "id": "0yG6taLhtxWQ"
   },
   "source": [
    "O modelo de regressão simples apresentou um resultado ligeiramente melhor, ou seja, o modelo simples explica ligeiramente mais a variação da variavel dependente, sendo mais efetiva."
   ]
  }
 ],
 "metadata": {
  "colab": {
   "provenance": []
  },
  "kernelspec": {
   "display_name": "Python 3",
   "name": "python3"
  },
  "language_info": {
   "codemirror_mode": {
    "name": "ipython",
    "version": 3
   },
   "file_extension": ".py",
   "mimetype": "text/x-python",
   "name": "python",
   "nbconvert_exporter": "python",
   "pygments_lexer": "ipython3",
   "version": "3.12.2"
  }
 },
 "nbformat": 4,
 "nbformat_minor": 0
}
