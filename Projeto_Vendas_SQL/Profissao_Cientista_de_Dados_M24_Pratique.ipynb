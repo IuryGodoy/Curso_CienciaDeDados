{
  "nbformat": 4,
  "nbformat_minor": 0,
  "metadata": {
    "colab": {
      "provenance": []
    },
    "kernelspec": {
      "name": "python3",
      "display_name": "Python 3"
    },
    "language_info": {
      "name": "python"
    }
  },
  "cells": [
    {
      "cell_type": "markdown",
      "source": [
        "# **MÓDULO 24 - Bancos de Dados + SQL**"
      ],
      "metadata": {
        "id": "4T5dCtwYXFS0"
      }
    },
    {
      "cell_type": "markdown",
      "source": [
        "Para nossa atividade inicial de SQL trabalharemos com uma base de vendas.\n",
        "Abaixo temos o ambiente de preparo para trabalharmos com o SQL lite."
      ],
      "metadata": {
        "id": "tGub_MhcXTfu"
      }
    },
    {
      "cell_type": "code",
      "execution_count": null,
      "metadata": {
        "id": "eQtWi0CfXCPn"
      },
      "outputs": [],
      "source": [
        "import sqlite3 #Importando a biblioteca necessária\n",
        "import pandas as pd"
      ]
    },
    {
      "cell_type": "code",
      "source": [
        "df_vendas = pd.read_csv(\"/content/TB_VENDAS_TAREFA.csv\", delimiter=';')"
      ],
      "metadata": {
        "id": "yKsW2EEpXQTK"
      },
      "execution_count": null,
      "outputs": []
    },
    {
      "cell_type": "code",
      "source": [
        "conn = sqlite3.connect(':memory:')\n",
        "df_vendas.to_sql('tb_vendas', conn, index=False, if_exists='replace')"
      ],
      "metadata": {
        "colab": {
          "base_uri": "https://localhost:8080/"
        },
        "id": "vbdvMKZgXtT5",
        "outputId": "8fd8b9a8-baf5-4730-bb0b-f388545542f3"
      },
      "execution_count": null,
      "outputs": [
        {
          "output_type": "execute_result",
          "data": {
            "text/plain": [
              "24"
            ]
          },
          "metadata": {},
          "execution_count": 12
        }
      ]
    },
    {
      "cell_type": "code",
      "source": [
        "def run_query(query):\n",
        "    return pd.read_sql_query(query, conn)"
      ],
      "metadata": {
        "id": "Z3-elg3aXuiM"
      },
      "execution_count": null,
      "outputs": []
    },
    {
      "cell_type": "markdown",
      "source": [
        "# 1) Faça uma consulta que retorne todos os dados da nossa tabela de vendas, com todas linhas e todas colunas.\n"
      ],
      "metadata": {
        "id": "Z_EFXuNLXz7m"
      }
    },
    {
      "cell_type": "code",
      "source": [
        "query = \"SELECT * FROM tb_vendas\"\n",
        "result_df = run_query(query)\n",
        "print(result_df)"
      ],
      "metadata": {
        "id": "XQr_MBvmb4yC",
        "colab": {
          "base_uri": "https://localhost:8080/"
        },
        "outputId": "6e5e8e6c-c3ed-4ccc-ce65-f73922012cb0"
      },
      "execution_count": null,
      "outputs": [
        {
          "output_type": "stream",
          "name": "stdout",
          "text": [
            "    ID_COMPRA  ID_CLIENTE   PRODUTO VALOR_UNID  UNIDADES\n",
            "0        1247        9081  CAMISETA       34,5         2\n",
            "1        1248        9081     CALCA       89,9         1\n",
            "2        1250        9560  CAMISETA       34,5         1\n",
            "3        1249        9630   BERMUDA       79,5         2\n",
            "4        1251        9425  CAMISETA       34,5         3\n",
            "5        1252        9425   VESTIDO        102         1\n",
            "6        1253        9481     CALCA       89,9         2\n",
            "7        1254        9785      MEIA       25,9         1\n",
            "8        1255        9786     CALCA       89,9         2\n",
            "9        1256        9787   VESTIDO        102         1\n",
            "10       1257        9788     CALCA       89,9         2\n",
            "11       1258        9789  CAMISETA       34,5         3\n",
            "12       1259        9790  CAMISETA       34,5         1\n",
            "13       1260        9791   BERMUDA       79,5         2\n",
            "14       1261        9792  CAMISETA       34,5         2\n",
            "15       1262        9793     CALCA       89,9         2\n",
            "16       1263        9794     CALCA       89,9         1\n",
            "17       1264        9795   BERMUDA       79,5         2\n",
            "18       1265        9796  CAMISETA       34,5         4\n",
            "19       1266        9797  CAMISETA       34,5         1\n",
            "20       1267        9798   VESTIDO        102         2\n",
            "21       1268        9799      MEIA       25,9         3\n",
            "22       1269        9800  CAMISETA       34,5         2\n",
            "23       1270        9801     CALCA       89,9         1\n"
          ]
        }
      ]
    },
    {
      "cell_type": "markdown",
      "source": [
        "# 2) Faça uma consulta que retorne apenas 10 linhas da coluna produto.\n"
      ],
      "metadata": {
        "id": "nyhYEkRLYMNY"
      }
    },
    {
      "cell_type": "code",
      "source": [
        "query = \"SELECT * FROM tb_vendas limit 10\"\n",
        "result_df = run_query(query)\n",
        "print(result_df)"
      ],
      "metadata": {
        "id": "LfKnVQUCYLxE",
        "colab": {
          "base_uri": "https://localhost:8080/"
        },
        "outputId": "aed33cc3-58ce-4ee8-85e7-96e55b36bdc9"
      },
      "execution_count": null,
      "outputs": [
        {
          "output_type": "stream",
          "name": "stdout",
          "text": [
            "   ID_COMPRA  ID_CLIENTE   PRODUTO VALOR_UNID  UNIDADES\n",
            "0       1247        9081  CAMISETA       34,5         2\n",
            "1       1248        9081     CALCA       89,9         1\n",
            "2       1250        9560  CAMISETA       34,5         1\n",
            "3       1249        9630   BERMUDA       79,5         2\n",
            "4       1251        9425  CAMISETA       34,5         3\n",
            "5       1252        9425   VESTIDO        102         1\n",
            "6       1253        9481     CALCA       89,9         2\n",
            "7       1254        9785      MEIA       25,9         1\n",
            "8       1255        9786     CALCA       89,9         2\n",
            "9       1256        9787   VESTIDO        102         1\n"
          ]
        }
      ]
    },
    {
      "cell_type": "markdown",
      "source": [
        "# 3) Faça uma consulta que retorne a média do valor por unidade e também das unidades vendidas. Não se esqueça de renomear o nome das colunas ao cria-las."
      ],
      "metadata": {
        "id": "-hqcrP6CYiGF"
      }
    },
    {
      "cell_type": "code",
      "source": [
        "query = \"SELECT AVG(VALOR_UNID), AVG(UNIDADES) FROM tb_vendas\"\n",
        "result_df = run_query(query)\n",
        "print(result_df)"
      ],
      "metadata": {
        "id": "v1aJMTkMYhm4",
        "colab": {
          "base_uri": "https://localhost:8080/"
        },
        "outputId": "cb70a32c-6736-4a83-bef3-6a66d8e9094a"
      },
      "execution_count": null,
      "outputs": [
        {
          "output_type": "stream",
          "name": "stdout",
          "text": [
            "   AVG(VALOR_UNID)  AVG(UNIDADES)\n",
            "0        63.416667       1.833333\n"
          ]
        }
      ]
    },
    {
      "cell_type": "markdown",
      "source": [
        "# 4) Note que na nossa tabela não temos o total de valor gasto por compra, temos o valor do produto e a quantidade vendida, para termos o valor total precisamos multiplicar essas duas colunas e para multiplicar colunas usamos o *.\n",
        "# Faça uma consulta que retorne a coluna ID_COMPRA, ID_CLIENTE e o valor total gasto.\n",
        "\n",
        "Ex: SELECT TICKET_MEDIO*UNIDADE FROM TB_EXEMPLO"
      ],
      "metadata": {
        "id": "UJUIsVjAY8Jz"
      }
    },
    {
      "cell_type": "code",
      "source": [
        "query = \"SELECT ID_COMPRA , ID_CLIENTE, ID_COMPRA * ID_CLIENTE FROM tb_vendas\"\n",
        "result_df = run_query(query)\n",
        "print(result_df)"
      ],
      "metadata": {
        "id": "rNQfkp6RY7qa",
        "colab": {
          "base_uri": "https://localhost:8080/"
        },
        "outputId": "2eec5237-f589-45a8-9c05-0411515ee6a9"
      },
      "execution_count": 24,
      "outputs": [
        {
          "output_type": "stream",
          "name": "stdout",
          "text": [
            "    ID_COMPRA  ID_CLIENTE  ID_COMPRA * ID_CLIENTE\n",
            "0        1247        9081                11324007\n",
            "1        1248        9081                11333088\n",
            "2        1250        9560                11950000\n",
            "3        1249        9630                12027870\n",
            "4        1251        9425                11790675\n",
            "5        1252        9425                11800100\n",
            "6        1253        9481                11879693\n",
            "7        1254        9785                12270390\n",
            "8        1255        9786                12281430\n",
            "9        1256        9787                12292472\n",
            "10       1257        9788                12303516\n",
            "11       1258        9789                12314562\n",
            "12       1259        9790                12325610\n",
            "13       1260        9791                12336660\n",
            "14       1261        9792                12347712\n",
            "15       1262        9793                12358766\n",
            "16       1263        9794                12369822\n",
            "17       1264        9795                12380880\n",
            "18       1265        9796                12391940\n",
            "19       1266        9797                12403002\n",
            "20       1267        9798                12414066\n",
            "21       1268        9799                12425132\n",
            "22       1269        9800                12436200\n",
            "23       1270        9801                12447270\n"
          ]
        }
      ]
    },
    {
      "cell_type": "markdown",
      "source": [
        "# 5) [DESAFIO] Faça uma consulta que traz a média do valor total gasto que foi calculado no exercício anterior. Note que não queremos a média por pedido e sim a média total, apenas essa informação deve vir na consulta."
      ],
      "metadata": {
        "id": "tuTDx7W3Zxlp"
      }
    },
    {
      "cell_type": "code",
      "source": [
        "query = \"SELECT AVG(ID_COMPRA * ID_CLIENTE) FROM tb_vendas\"\n",
        "result_df = run_query(query)\n",
        "# Exibir o resultado\n",
        "print(result_df)"
      ],
      "metadata": {
        "id": "UPUskwJoaEgy",
        "colab": {
          "base_uri": "https://localhost:8080/"
        },
        "outputId": "0a947bc7-1e8a-4855-a328-3196116ca9ee"
      },
      "execution_count": 26,
      "outputs": [
        {
          "output_type": "stream",
          "name": "stdout",
          "text": [
            "   AVG(ID_COMPRA * ID_CLIENTE)\n",
            "0                 1.217520e+07\n"
          ]
        }
      ]
    },
    {
      "cell_type": "markdown",
      "source": [
        "# 6) Diferencie com suas palavras, considerando o repertório que tem criado da área de dados, a utilizadade do SQL e do Python para ciência de dados.\n",
        "Minimo 2 linhas."
      ],
      "metadata": {
        "id": "0ezDHHigaONG"
      }
    },
    {
      "cell_type": "markdown",
      "source": [
        "Python pode ser amplamente utilizado para criação de sistemas e processos, sendo desde uma aplicação de modelos estatísticos até a construção de um APP, já o SQL se limita somente a banco de dados, transformando as consultas e tratamentos em algo simples, dinânico e organizado."
      ],
      "metadata": {
        "id": "Wc2VUNj0d5JX"
      }
    },
    {
      "cell_type": "markdown",
      "source": [
        "#7) Diferencie com suas palavras banco de dados relacionais de não relacionais.\n",
        "Minimo 3 linhas."
      ],
      "metadata": {
        "id": "F1xh_-UPaZU2"
      }
    },
    {
      "cell_type": "markdown",
      "source": [
        "Banco de dados relacionais requerem uma estrutura tabular e fixa(ideal para dados estruturados), diferente da não relacional, que não precisa se basear em tabelas, sendo não ou semi estruturados(redes sociais). Em SQL, temos termos como chaves primárias, colunas e linhas, para garantir a consistência nas querys."
      ],
      "metadata": {
        "id": "VFq3EqV5eToN"
      }
    },
    {
      "cell_type": "markdown",
      "source": [
        "#8) Queremos saber da sua opinião, acredita que o SQL pode ser mais prático que o Python para consultas rápidas? Justifique.\n",
        "Muitas vezes durante a carreia você terá que escolher qual linguagem utilizar para cada momento afim de entregar o que é solicitado o mais rápido e com qualidade possível, exercite sua argumentação = )\n",
        "\n",
        "Minimo 3 linhas."
      ],
      "metadata": {
        "id": "GkKpxl52atNQ"
      }
    },
    {
      "cell_type": "markdown",
      "source": [
        "Com certeza! Além de ser mais fácil de interpretar e aprender, o SQL é bem mais simples e estruturado, ideal para consultas rápidas e diretas, enquanto o Python é mais versátil, quando temos uma integração mais complexa, algum tipo de automação ou análise mais avançada. Em resumo, ambos tem seus pontos fortes, nas o SQL é ideal para consultas rápidas, sendo prático, com pouca necessidade de programação."
      ],
      "metadata": {
        "id": "OjP7iKJufLgd"
      }
    }
  ]
}