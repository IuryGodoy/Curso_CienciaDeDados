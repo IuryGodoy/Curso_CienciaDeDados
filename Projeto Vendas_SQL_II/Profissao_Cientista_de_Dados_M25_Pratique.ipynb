{
  "nbformat": 4,
  "nbformat_minor": 0,
  "metadata": {
    "colab": {
      "provenance": []
    },
    "kernelspec": {
      "name": "python3",
      "display_name": "Python 3"
    },
    "language_info": {
      "name": "python"
    }
  },
  "cells": [
    {
      "cell_type": "markdown",
      "source": [
        "# **MÓDULO 25 - Operações Básicas SQL**"
      ],
      "metadata": {
        "id": "4T5dCtwYXFS0"
      }
    },
    {
      "cell_type": "markdown",
      "source": [
        "Para nossa atividade inicial de SQL trabalharemos com uma base de vendas.\n",
        "Abaixo temos o ambiente de preparo para trabalharmos com o SQL lite."
      ],
      "metadata": {
        "id": "tGub_MhcXTfu"
      }
    },
    {
      "cell_type": "code",
      "execution_count": 2,
      "metadata": {
        "id": "eQtWi0CfXCPn"
      },
      "outputs": [],
      "source": [
        "import sqlite3 #Importando a biblioteca necessária\n",
        "import pandas as pd"
      ]
    },
    {
      "cell_type": "code",
      "source": [
        "df_vendas = pd.read_csv(\"/content/TB_VENDAS_TAREFA (1).csv\", delimiter=';')"
      ],
      "metadata": {
        "id": "yKsW2EEpXQTK"
      },
      "execution_count": 3,
      "outputs": []
    },
    {
      "cell_type": "code",
      "source": [
        "conn = sqlite3.connect(':memory:')\n",
        "df_vendas.to_sql('tb_vendas', conn, index=False, if_exists='replace')"
      ],
      "metadata": {
        "colab": {
          "base_uri": "https://localhost:8080/"
        },
        "id": "vbdvMKZgXtT5",
        "outputId": "328992d6-761a-46b6-9c14-6c0f472b5529"
      },
      "execution_count": 4,
      "outputs": [
        {
          "output_type": "execute_result",
          "data": {
            "text/plain": [
              "24"
            ]
          },
          "metadata": {},
          "execution_count": 4
        }
      ]
    },
    {
      "cell_type": "code",
      "source": [
        "def run_query(query):\n",
        "    return pd.read_sql_query(query, conn)"
      ],
      "metadata": {
        "id": "Z3-elg3aXuiM"
      },
      "execution_count": 5,
      "outputs": []
    },
    {
      "cell_type": "markdown",
      "source": [
        "# 1) Faça uma consulta que retorne os nomes dos produtos distintos que temos na base de venda.\n"
      ],
      "metadata": {
        "id": "Z_EFXuNLXz7m"
      }
    },
    {
      "cell_type": "code",
      "source": [
        "query = \"\"\"\n",
        "SELECT DISTINCT PRODUTO FROM tb_vendas\n",
        "\"\"\"\n",
        "result_df = run_query(query)\n",
        "print(result_df)"
      ],
      "metadata": {
        "id": "RXZK6kTcZ4BR",
        "colab": {
          "base_uri": "https://localhost:8080/"
        },
        "outputId": "6d43ea27-33aa-4411-adb7-ad0847bba003"
      },
      "execution_count": 9,
      "outputs": [
        {
          "output_type": "stream",
          "name": "stdout",
          "text": [
            "    PRODUTO\n",
            "0  CAMISETA\n",
            "1     CALCA\n",
            "2   BERMUDA\n",
            "3   VESTIDO\n",
            "4      MEIA\n"
          ]
        }
      ]
    },
    {
      "cell_type": "markdown",
      "source": [
        "# 2) Faça uma consulta que retorne a contagem dos clientes distintos que temos na nossa base, não esqueça de renomear sua coluna.\n",
        "\n",
        "Dica: Você pode usar o distinct dentro do count()"
      ],
      "metadata": {
        "id": "i0m1rdHk1kHc"
      }
    },
    {
      "cell_type": "code",
      "source": [
        "query = \"\"\"\n",
        "SELECT\n",
        "COUNT(DISTINCT ID_CLIENTE) AS CLIENTES_DISTINTOS\n",
        "FROM tb_vendas\n",
        "\"\"\"\n",
        "result_df = run_query(query)\n",
        "print(result_df)"
      ],
      "metadata": {
        "id": "uDGHdqIwZ72P",
        "colab": {
          "base_uri": "https://localhost:8080/"
        },
        "outputId": "13adde56-cc43-4275-a167-5c050806a04b"
      },
      "execution_count": 12,
      "outputs": [
        {
          "output_type": "stream",
          "name": "stdout",
          "text": [
            "   CLIENTES_DISTINTOS\n",
            "0                  22\n"
          ]
        }
      ]
    },
    {
      "cell_type": "markdown",
      "source": [
        "# 3) Faça uma consulta que retorne uma coluna com os produtos distintos e o valor_unid de cada produto. Porém apenas para produtos onde o valor_unid é maior ou igual a 50 reais."
      ],
      "metadata": {
        "id": "OvDezkJ516jd"
      }
    },
    {
      "cell_type": "code",
      "source": [
        "query = \"\"\"\n",
        "SELECT DISTINCT PRODUTO, VALOR_UNID FROM tb_vendas\n",
        "WHERE VALOR_UNID >= 50\n",
        "\"\"\"\n",
        "result_df = run_query(query)\n",
        "print(result_df)"
      ],
      "metadata": {
        "id": "_Feprb8JZ9Cg",
        "colab": {
          "base_uri": "https://localhost:8080/"
        },
        "outputId": "90ceb5c6-06d1-4b1f-908c-f62a365ce77a"
      },
      "execution_count": 13,
      "outputs": [
        {
          "output_type": "stream",
          "name": "stdout",
          "text": [
            "   PRODUTO VALOR_UNID\n",
            "0    CALCA       89,9\n",
            "1  BERMUDA       79,5\n"
          ]
        }
      ]
    },
    {
      "cell_type": "markdown",
      "source": [
        "# [DESAFIO] 4) Faça uma consulta que retorne o ID das compras e o valor total gasto nessa compra (Valor_unidade X Unidades) das 5 compras com mais valor total gasto."
      ],
      "metadata": {
        "id": "jcxg6MuX2c61"
      }
    },
    {
      "cell_type": "code",
      "source": [
        "query = \"\"\"\n",
        "SELECT ID_COMPRA, VALOR_UNID * UNIDADES AS VALOR_TOTAL FROM tb_vendas\n",
        "ORDER BY VALOR_TOTAL DESC\n",
        "LIMIT 5\n",
        "\"\"\"\n",
        "result_df = run_query(query)\n",
        "print(result_df)"
      ],
      "metadata": {
        "id": "rtmlv-MyZ99R",
        "colab": {
          "base_uri": "https://localhost:8080/"
        },
        "outputId": "2aa2558d-abc0-45ab-d88c-77197f308357"
      },
      "execution_count": 14,
      "outputs": [
        {
          "output_type": "stream",
          "name": "stdout",
          "text": [
            "   ID_COMPRA  VALOR_TOTAL\n",
            "0       1267          204\n",
            "1       1253          178\n",
            "2       1255          178\n",
            "3       1257          178\n",
            "4       1262          178\n"
          ]
        }
      ]
    },
    {
      "cell_type": "markdown",
      "source": [
        "# 5) Faça uma consulta que retorne os produtos e a média do preço da unidade dos produtos, ordenando do maior para o menor."
      ],
      "metadata": {
        "id": "NJXkUmwH3EkG"
      }
    },
    {
      "cell_type": "code",
      "source": [
        "query = \"\"\"\n",
        "SELECT PRODUTO, AVG(VALOR_UNID) AS MEDIA_PRECO FROM tb_vendas\n",
        "GROUP BY PRODUTO\n",
        "ORDER BY MEDIA_PRECO DESC\n",
        "\"\"\"\n",
        "result_df = run_query(query)\n",
        "print(result_df)"
      ],
      "metadata": {
        "id": "el35t_f8Z_-j",
        "colab": {
          "base_uri": "https://localhost:8080/"
        },
        "outputId": "0f932558-1e85-436e-a569-f3e0e6910a08"
      },
      "execution_count": 17,
      "outputs": [
        {
          "output_type": "stream",
          "name": "stdout",
          "text": [
            "    PRODUTO  MEDIA_PRECO\n",
            "0   VESTIDO        102.0\n",
            "1     CALCA         89.0\n",
            "2   BERMUDA         79.0\n",
            "3  CAMISETA         34.0\n",
            "4      MEIA         25.0\n"
          ]
        }
      ]
    },
    {
      "cell_type": "markdown",
      "source": [
        "# 6) Faça uma consulta que retorne o id dos 3 clientes da base de vendas que mais relalizaram compras e a quantidade de compras realizadas."
      ],
      "metadata": {
        "id": "KR1f3qbB3s8D"
      }
    },
    {
      "cell_type": "code",
      "source": [
        "query = \"\"\"\n",
        "SELECT ID_CLIENTE, COUNT(ID_COMPRA) AS QUANTIDADE_COMPRAS FROM tb_vendas\n",
        "GROUP BY ID_CLIENTE\n",
        "ORDER BY QUANTIDADE_COMPRAS DESC\n",
        "LIMIT 3\n",
        "\"\"\"\n",
        "result_df = run_query(query)\n",
        "print(result_df)"
      ],
      "metadata": {
        "id": "ZLZ8mkXjaA-f",
        "colab": {
          "base_uri": "https://localhost:8080/"
        },
        "outputId": "f21c3bb9-2295-4ac4-d214-b3a09ca04630"
      },
      "execution_count": 18,
      "outputs": [
        {
          "output_type": "stream",
          "name": "stdout",
          "text": [
            "   ID_CLIENTE  QUANTIDADE_COMPRAS\n",
            "0        9425                   2\n",
            "1        9081                   2\n",
            "2        9801                   1\n"
          ]
        }
      ]
    }
  ]
}