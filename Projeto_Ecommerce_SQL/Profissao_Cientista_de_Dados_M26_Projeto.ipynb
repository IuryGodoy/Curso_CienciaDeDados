{
  "cells": [
    {
      "cell_type": "markdown",
      "metadata": {
        "id": "2xcKXdd3WR17"
      },
      "source": [
        "# **MÓDULO 26 - Projeto Final do Aprofundamento de Analytics**"
      ]
    },
    {
      "cell_type": "markdown",
      "metadata": {
        "id": "JawTVJK2W-9v"
      },
      "source": [
        "Bem-vindos ao Projeto de Dashboard de E-commerce! Este projeto é uma oportunidade para vocês aplicarem habilidades essenciais de análise de dados em um cenário prático e realista. Vocês irão trabalhar com um conjunto de dados de transações de clientes de uma loja virtual, distribuídos em duas tabelas distintas. O objetivo final é construir um dashboard interativo que facilite a visualização e análise das informações relevantes do e-commerce, utilizando ferramentas como Looker Studio ou Power BI."
      ]
    },
    {
      "cell_type": "markdown",
      "metadata": {
        "id": "6_UQwlRYXJnG"
      },
      "source": [
        "**Objetivo do Projeto:**\n",
        "\n",
        "Tratamento de Dados: Realizar a junção (JOIN) de duas tabelas utilizando SQL para consolidar as informações.\n",
        "Análise de Dados: Exportar os dados resultantes para um arquivo CSV.\n",
        "Visualização de Dados: Desenvolver um dashboard interativo e informativo para visualização das principais métricas e insights do e-commerce."
      ]
    },
    {
      "cell_type": "markdown",
      "metadata": {
        "id": "70syl2pLXQ28"
      },
      "source": [
        "**Tabelas Disponibilizadas:**\n",
        "\n",
        "**Tabela de Transações:** Contém os registros de transações realizadas pelos clientes, incluindo detalhes como ID da transação, valor e outros.\n",
        "\n",
        "\n",
        "**Tabela de Dados Pessoais:** Contém as informações pessoais dos clientes, como ID do cliente, nome, genero, cidade, etc.\n",
        "\n",
        "**Chave de Ligação:** As tabelas se relacionam através da coluna ID_CLIENT, que é a chave identificadora dos clientes."
      ]
    },
    {
      "cell_type": "markdown",
      "metadata": {
        "id": "xkLSMEBoXeYT"
      },
      "source": [
        "# Etapas do Projeto:\n",
        "\n",
        "1. Realizar um JOIN SQL nas duas tabelas, unificando as informações através da coluna ID_CLIENT. Você deve justificar a escolha do JOIN (Inner/ Left/ Right ou Full).\n",
        "\n",
        "2. Exportar os dados consolidados resultantes do JOIN para um arquivo CSV.\n",
        "\n",
        "3. Utilizar Looker Studio ou Power BI para importar o arquivo CSV.\n",
        "\n",
        "4. Criar visualizações interativas que apresentem métricas importantes, como total de vendas, número de transações, distribuição geográfica dos clientes, perfil demográfico dos clientes, entre outros."
      ]
    },
    {
      "cell_type": "markdown",
      "metadata": {
        "id": "lRVU4Dl_X0V4"
      },
      "source": [
        "Abaixo temos a configuração do ambiente SQL:"
      ]
    },
    {
      "cell_type": "code",
      "execution_count": 1,
      "metadata": {
        "id": "5_Mqh988V-Tf"
      },
      "outputs": [],
      "source": [
        "import sqlite3\n",
        "import pandas as pd"
      ]
    },
    {
      "cell_type": "code",
      "execution_count": 2,
      "metadata": {
        "id": "JNEitpAKYJfJ"
      },
      "outputs": [],
      "source": [
        "df_transacoes = pd.read_csv(\"/content/TB_TRANSACOES_PROJETO_ECOMM.csv\", delimiter=';')\n",
        "df_clientes = pd.read_csv(\"/content/TB_CLIENTES_PROJETO_ECOMM.csv\", delimiter=';')"
      ]
    },
    {
      "cell_type": "code",
      "execution_count": 3,
      "metadata": {
        "colab": {
          "base_uri": "https://localhost:8080/"
        },
        "id": "WnmPtyP6YReh",
        "outputId": "6a72921b-7075-4fd5-e362-880d1b232971"
      },
      "outputs": [
        {
          "data": {
            "text/plain": [
              "175"
            ]
          },
          "execution_count": 3,
          "metadata": {},
          "output_type": "execute_result"
        }
      ],
      "source": [
        "conn = sqlite3.connect('projeto.db')\n",
        "# Carregar o DataFrame no banco de dados SQLite - criando tb_transacoes e tb_clientes\n",
        "df_transacoes.to_sql('tb_transacoes', conn, index=False, if_exists='replace')\n",
        "df_clientes.to_sql('tb_clientes', conn, index=False, if_exists='replace')"
      ]
    },
    {
      "cell_type": "code",
      "execution_count": 4,
      "metadata": {
        "id": "pMOeIO95Yfm4"
      },
      "outputs": [],
      "source": [
        "# Função para executar consultas SQL e retornar o resultado como um DataFrame\n",
        "def run_query(query):\n",
        "    return pd.read_sql_query(query, conn)"
      ]
    },
    {
      "cell_type": "code",
      "execution_count": 15,
      "metadata": {
        "colab": {
          "base_uri": "https://localhost:8080/"
        },
        "id": "lMSQyM6qaIEu",
        "outputId": "f3bbfd5b-e9a3-4ba0-f57d-70a077248681"
      },
      "outputs": [
        {
          "name": "stdout",
          "output_type": "stream",
          "text": [
            "     id_client     Category   Price   Card Type state_name First_name  \\\n",
            "0           37  Electronics   72,93  mastercard         ND     Cornie   \n",
            "1           38      Jewelry  121,89  mastercard         PA        Rab   \n",
            "2           39         Baby    64,3  mastercard         MA      Codie   \n",
            "3           40     Outdoors    9,48  mastercard         OR      Scott   \n",
            "4            5     Outdoors   61,95  mastercard         MN     Tanney   \n",
            "..         ...          ...     ...         ...        ...        ...   \n",
            "291        120         Baby   24,97  mastercard         NY      Dougy   \n",
            "292        121     Clothing  145,64  mastercard         OH     Bartel   \n",
            "293        122     Clothing   46,16  mastercard         KS      Inigo   \n",
            "294        123        Books   39,03  mastercard         VA       Ross   \n",
            "295        124       Health  142,63  mastercard         DC       Saul   \n",
            "\n",
            "          Gender                      Job_Title  Id_client  \n",
            "0    Genderqueer                         Editor         37  \n",
            "1           Male              Assistant Manager         38  \n",
            "2         Female              Financial Analyst         39  \n",
            "3         Female                 Civil Engineer         40  \n",
            "4         Female                   VP Marketing          5  \n",
            "..           ...                            ...        ...  \n",
            "291         Male    Computer Systems Analyst IV        120  \n",
            "292       Female                        Actuary        121  \n",
            "293       Female          Programmer Analyst II        122  \n",
            "294         Male  Analog Circuit Design manager        123  \n",
            "295       Female                   VP Marketing        124  \n",
            "\n",
            "[296 rows x 9 columns]\n"
          ]
        }
      ],
      "source": [
        "query = \"\"\"\n",
        "SELECT A.*, B.*\n",
        "FROM tb_transacoes AS A\n",
        "INNER JOIN tb_clientes AS B\n",
        "ON A.ID_CLIENT = B.ID_CLIENT\n",
        "\"\"\"\n",
        "df = run_query(query)\n",
        "print(df)"
      ]
    },
    {
      "cell_type": "markdown",
      "metadata": {
        "id": "PfsVPMwQZlNe"
      },
      "source": [
        "Justifique a escolha do JOIN:"
      ]
    },
    {
      "cell_type": "markdown",
      "metadata": {},
      "source": [
        "No caso do nosso projeto, usamos o INNER JOIN entre as tabelas tb_transacoes e tb_clientes porque interessam apenas as transações que têm um cliente correspondente. Ou seja, se uma transação estiver associada a um cliente inexistente, ou vice-versa, essa informação não é útil ou confiável para a análise, por isso descartamos o LEFT, RIGHT ou FULL JOIN."
      ]
    },
    {
      "cell_type": "markdown",
      "metadata": {
        "id": "ca7R_MgCZ2eh"
      },
      "source": [
        "Exportando o arquivo como CSV:"
      ]
    },
    {
      "cell_type": "code",
      "execution_count": 16,
      "metadata": {
        "id": "06eFgBSpZ4Xh"
      },
      "outputs": [],
      "source": [
        "df.to_csv('dados_ecommerce_final.csv', index=False)"
      ]
    },
    {
      "cell_type": "markdown",
      "metadata": {
        "id": "yWnbq4nraMNv"
      },
      "source": [
        "**Dicas para o projeto:**\n",
        "- Se atente que, como o mesmo cliente realiza mais de 1 transação quando você for trazer alguma métrica relacionada a dados do cliente terá que utilizar o distinct para criar essas métricas no dashboard, se não acabará tendo os dados repetidos.\n",
        "\n",
        "- Análise sua tabela, entenda a dimensão dos dados, no excel, antes de enviar para o Powerbi ou Looker Studio.\n",
        "\n",
        "- Tente montar preveamente um roteiro de quais métricas e visualizações irá colocar no dashboard, isso tornará seu processo mais rápido.\n",
        "\n",
        "- Qualquer dificuldade para subir sua base para as ferramentas de visualização envie a base e o erro encontrado para que os tutores possam te ajudar."
      ]
    }
  ],
  "metadata": {
    "colab": {
      "provenance": []
    },
    "kernelspec": {
      "display_name": "Python 3",
      "name": "python3"
    },
    "language_info": {
      "name": "python"
    }
  },
  "nbformat": 4,
  "nbformat_minor": 0
}
