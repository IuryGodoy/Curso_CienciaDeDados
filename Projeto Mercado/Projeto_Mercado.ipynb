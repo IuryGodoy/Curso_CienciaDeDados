{
 "cells": [
  {
   "cell_type": "markdown",
   "metadata": {
    "id": "VOTu7U3Mvxzq"
   },
   "source": [
    "# **MÓDULO 13**\n",
    "# Projeto - Fundamentos da Descoberta de Dados"
   ]
  },
  {
   "cell_type": "markdown",
   "metadata": {
    "id": "-HYgkdAywLd0"
   },
   "source": [
    "Nesse projeto trabalharemos com a base de dados de produtos de um supermercado do Chile.\n",
    "A ideia é que vocês apliquem os conceitos estatísticos vistos no último módulo, mais os conceitos de visualizações de dados através de gráficos e finalizem publicando no seu github!"
   ]
  },
  {
   "cell_type": "code",
   "execution_count": 1,
   "metadata": {
    "id": "OTdTnbzUwE2X"
   },
   "outputs": [],
   "source": [
    "import pandas as pd\n",
    "import matplotlib.pyplot as plt\n",
    "import plotly.express as px"
   ]
  },
  {
   "cell_type": "markdown",
   "metadata": {
    "id": "ky1Dk_KWywEa"
   },
   "source": [
    "Faça a leitura dos dados do arquivo CSV:\n",
    "\n",
    "\n",
    "Altere o código abaixo de acordo com seu diretório."
   ]
  },
  {
   "cell_type": "code",
   "execution_count": 2,
   "metadata": {
    "colab": {
     "base_uri": "https://localhost:8080/",
     "height": 363
    },
    "id": "bRBFyVB5wlny",
    "outputId": "cde5190b-fecf-48f8-e98c-5ec7e469bcfb"
   },
   "outputs": [
    {
     "data": {
      "text/html": [
       "<div>\n",
       "<style scoped>\n",
       "    .dataframe tbody tr th:only-of-type {\n",
       "        vertical-align: middle;\n",
       "    }\n",
       "\n",
       "    .dataframe tbody tr th {\n",
       "        vertical-align: top;\n",
       "    }\n",
       "\n",
       "    .dataframe thead th {\n",
       "        text-align: right;\n",
       "    }\n",
       "</style>\n",
       "<table border=\"1\" class=\"dataframe\">\n",
       "  <thead>\n",
       "    <tr style=\"text-align: right;\">\n",
       "      <th></th>\n",
       "      <th>title</th>\n",
       "      <th>Marca</th>\n",
       "      <th>Preco_Normal</th>\n",
       "      <th>Preco_Desconto</th>\n",
       "      <th>Preco_Anterior</th>\n",
       "      <th>Desconto</th>\n",
       "      <th>Categoria</th>\n",
       "    </tr>\n",
       "  </thead>\n",
       "  <tbody>\n",
       "    <tr>\n",
       "      <th>0</th>\n",
       "      <td>Pack 12 un, Leche extra proteína 1 L</td>\n",
       "      <td>Loncoleche</td>\n",
       "      <td>19788</td>\n",
       "      <td>0</td>\n",
       "      <td>0</td>\n",
       "      <td>0</td>\n",
       "      <td>lacteos</td>\n",
       "    </tr>\n",
       "    <tr>\n",
       "      <th>1</th>\n",
       "      <td>Pack 12 un, Leche chocolate receta original 1 L</td>\n",
       "      <td>Soprole</td>\n",
       "      <td>18228</td>\n",
       "      <td>0</td>\n",
       "      <td>0</td>\n",
       "      <td>0</td>\n",
       "      <td>lacteos</td>\n",
       "    </tr>\n",
       "    <tr>\n",
       "      <th>2</th>\n",
       "      <td>Pack 12 un, Leche semidescremada chocolate 1 L</td>\n",
       "      <td>Soprole</td>\n",
       "      <td>18228</td>\n",
       "      <td>0</td>\n",
       "      <td>0</td>\n",
       "      <td>0</td>\n",
       "      <td>lacteos</td>\n",
       "    </tr>\n",
       "    <tr>\n",
       "      <th>3</th>\n",
       "      <td>Pack 12 un, Leche semidescremada frutilla 1 L</td>\n",
       "      <td>Soprole</td>\n",
       "      <td>18228</td>\n",
       "      <td>0</td>\n",
       "      <td>0</td>\n",
       "      <td>0</td>\n",
       "      <td>lacteos</td>\n",
       "    </tr>\n",
       "    <tr>\n",
       "      <th>4</th>\n",
       "      <td>Pack 12 un, Leche sin lactosa chocolate 1 L</td>\n",
       "      <td>Loncoleche</td>\n",
       "      <td>17988</td>\n",
       "      <td>0</td>\n",
       "      <td>0</td>\n",
       "      <td>0</td>\n",
       "      <td>lacteos</td>\n",
       "    </tr>\n",
       "    <tr>\n",
       "      <th>5</th>\n",
       "      <td>Pack 12 un, Leche sin lactosa frutilla 1 L</td>\n",
       "      <td>Loncoleche</td>\n",
       "      <td>17988</td>\n",
       "      <td>0</td>\n",
       "      <td>0</td>\n",
       "      <td>0</td>\n",
       "      <td>lacteos</td>\n",
       "    </tr>\n",
       "    <tr>\n",
       "      <th>6</th>\n",
       "      <td>Pack 12 un, Leche saborizada light chocolate 1 L</td>\n",
       "      <td>Loncoleche</td>\n",
       "      <td>17988</td>\n",
       "      <td>0</td>\n",
       "      <td>0</td>\n",
       "      <td>0</td>\n",
       "      <td>lacteos</td>\n",
       "    </tr>\n",
       "    <tr>\n",
       "      <th>7</th>\n",
       "      <td>Pack 12 un, Leche saborizada frutilla 1 L</td>\n",
       "      <td>Colun</td>\n",
       "      <td>17388</td>\n",
       "      <td>0</td>\n",
       "      <td>0</td>\n",
       "      <td>0</td>\n",
       "      <td>lacteos</td>\n",
       "    </tr>\n",
       "    <tr>\n",
       "      <th>8</th>\n",
       "      <td>Pack 12 un, Leche saborizada vainilla 1 L</td>\n",
       "      <td>Colun</td>\n",
       "      <td>17388</td>\n",
       "      <td>0</td>\n",
       "      <td>0</td>\n",
       "      <td>0</td>\n",
       "      <td>lacteos</td>\n",
       "    </tr>\n",
       "    <tr>\n",
       "      <th>9</th>\n",
       "      <td>Pack 12 un, Leche saborizada manjar 1 L</td>\n",
       "      <td>Colun</td>\n",
       "      <td>17388</td>\n",
       "      <td>0</td>\n",
       "      <td>0</td>\n",
       "      <td>0</td>\n",
       "      <td>lacteos</td>\n",
       "    </tr>\n",
       "  </tbody>\n",
       "</table>\n",
       "</div>"
      ],
      "text/plain": [
       "                                              title       Marca  Preco_Normal  \\\n",
       "0              Pack 12 un, Leche extra proteína 1 L  Loncoleche         19788   \n",
       "1   Pack 12 un, Leche chocolate receta original 1 L     Soprole         18228   \n",
       "2    Pack 12 un, Leche semidescremada chocolate 1 L     Soprole         18228   \n",
       "3     Pack 12 un, Leche semidescremada frutilla 1 L     Soprole         18228   \n",
       "4       Pack 12 un, Leche sin lactosa chocolate 1 L  Loncoleche         17988   \n",
       "5        Pack 12 un, Leche sin lactosa frutilla 1 L  Loncoleche         17988   \n",
       "6  Pack 12 un, Leche saborizada light chocolate 1 L  Loncoleche         17988   \n",
       "7         Pack 12 un, Leche saborizada frutilla 1 L       Colun         17388   \n",
       "8         Pack 12 un, Leche saborizada vainilla 1 L       Colun         17388   \n",
       "9           Pack 12 un, Leche saborizada manjar 1 L       Colun         17388   \n",
       "\n",
       "   Preco_Desconto  Preco_Anterior  Desconto Categoria  \n",
       "0               0               0         0   lacteos  \n",
       "1               0               0         0   lacteos  \n",
       "2               0               0         0   lacteos  \n",
       "3               0               0         0   lacteos  \n",
       "4               0               0         0   lacteos  \n",
       "5               0               0         0   lacteos  \n",
       "6               0               0         0   lacteos  \n",
       "7               0               0         0   lacteos  \n",
       "8               0               0         0   lacteos  \n",
       "9               0               0         0   lacteos  "
      ]
     },
     "execution_count": 2,
     "metadata": {},
     "output_type": "execute_result"
    }
   ],
   "source": [
    "df = pd.read_csv(\"MODULO7_BASE_SUPERMERCADO.csv\", delimiter=',')\n",
    "\n",
    "df.head(10)"
   ]
  },
  {
   "cell_type": "markdown",
   "metadata": {
    "id": "YJgKJ7Nxwtw2"
   },
   "source": [
    "Os campos do nosso dataframe são:\n",
    "\n",
    "**Title:** Nome do produto.\n",
    "\n",
    "\n",
    "**Marca:** A marca do produto.\n",
    "\n",
    "\n",
    "**Preco_Normal:** O preço em que o produto costuma ser vendido quando não há desconto.\n",
    "\n",
    "\n",
    "**Preco_Desconto:** O preço vendido após o desconto ser aplicado.\n",
    "\n",
    "\n",
    "**Preco_Anterior:** Preço em que era comercializado o produto antes do desconto aplicado.\n",
    "\n",
    "\n",
    "**Desconto:** Total de desconto aplicado.\n",
    "\n",
    "\n",
    "\n",
    "\n",
    "\n",
    "\n",
    "As colunas que aparecem com valores 0 são para os produtos onde não tivemos descontos aplicados.\n",
    "\n",
    "\n",
    "As categorias estão em espanhol!"
   ]
  },
  {
   "cell_type": "markdown",
   "metadata": {
    "id": "4u6WBeyyy6ri"
   },
   "source": [
    "# 1 - Traga a média e a mediana dos preços - coluna Preco_Normal - por categoria de produto.\n",
    "# Identifique as categorias que parecem ter um valor de média abaixo ou acima da mediana."
   ]
  },
  {
   "cell_type": "code",
   "execution_count": 3,
   "metadata": {
    "id": "E7B7FolOzVcJ"
   },
   "outputs": [
    {
     "name": "stdout",
     "output_type": "stream",
     "text": [
      "Média de preços por categoria:                     Categoria  Preco_Normal\n",
      "1          comidas-preparadas   3095.043478\n",
      "5                     lacteos   2385.219239\n",
      "2                  congelados   2108.042553\n",
      "0  belleza-y-cuidado-personal   1783.556485\n",
      "3                      frutas   1724.473684\n",
      "6                    verduras   1343.296875\n",
      "4        instantaneos-y-sopas    765.491228\n"
     ]
    }
   ],
   "source": [
    "media_por_categoria = df.groupby('Categoria')['Preco_Normal'].mean().reset_index()\n",
    "media_por_categoria = media_por_categoria.sort_values(by='Preco_Normal', ascending=False)\n",
    "\n",
    "print(\"Média de preços por categoria:\", media_por_categoria)"
   ]
  },
  {
   "cell_type": "code",
   "execution_count": 4,
   "metadata": {
    "id": "Rwf4V3hnzZwh"
   },
   "outputs": [
    {
     "name": "stdout",
     "output_type": "stream",
     "text": [
      "Mediana geral é:  1783.5564853556486\n"
     ]
    }
   ],
   "source": [
    "mediana_geral_categoria = media_por_categoria['Preco_Normal'].median()\n",
    "print('Mediana geral é: ', mediana_geral_categoria)"
   ]
  },
  {
   "cell_type": "markdown",
   "metadata": {
    "id": "nKBFOh-mzyWX"
   },
   "source": [
    "Digite aqui as categorias:\n",
    "\n",
    "**Abaixo:**\n",
    "\n",
    "instantaneos-y-sopas,\n",
    "verduras,\n",
    "fruta,\n",
    "belleza-y-cuidado-personal.\n",
    "\n",
    "**Acima:**\n",
    "congelados,\n",
    "lacteos,\n",
    "comidas-preparadas.\n"
   ]
  },
  {
   "cell_type": "markdown",
   "metadata": {
    "id": "jdHZurzDzca0"
   },
   "source": [
    "# 2 - Traga o desvio padrão por categoria de produto.\n",
    "# Qual o comportamento da média e mediana nas categorias com maior desvio?"
   ]
  },
  {
   "cell_type": "code",
   "execution_count": 5,
   "metadata": {
    "id": "xEXT1gtoz135"
   },
   "outputs": [
    {
     "name": "stdout",
     "output_type": "stream",
     "text": [
      "Desvio padrão é:                      Categoria  Preco_Normal\n",
      "0  belleza-y-cuidado-personal   2210.041719\n",
      "1          comidas-preparadas   2019.911428\n",
      "2                  congelados   2111.539896\n",
      "3                      frutas   1639.151114\n",
      "4        instantaneos-y-sopas   1170.232869\n",
      "5                     lacteos   3925.816164\n",
      "6                    verduras   1012.699625\n"
     ]
    }
   ],
   "source": [
    "desvio_padrao_categoria = df.groupby('Categoria')['Preco_Normal'].std().reset_index()\n",
    "print('Desvio padrão é: ',desvio_padrao_categoria)"
   ]
  },
  {
   "cell_type": "markdown",
   "metadata": {
    "id": "HzsLO4nOz3yJ"
   },
   "source": [
    "Digite nesse campo o comportamento que você identificou."
   ]
  },
  {
   "cell_type": "markdown",
   "metadata": {
    "id": "4aW51rCHBr2w"
   },
   "source": [
    "# 3 - Plot um boxplot da distribuição do Preco_Normal para a categoria que você identificou que tem o maior desvio padrão. Como é a distribuição desses dados segundo o boxplot? Você identifica muitos outliers?"
   ]
  },
  {
   "cell_type": "markdown",
   "metadata": {
    "id": "kwPKkUZnEUSb"
   },
   "source": [
    "Dica: Para trazer apenas os dados da categoria que você deseja você pode usar o df.loc[df['Categoria'] == 'CATEGORIA ESCOLHIDA'"
   ]
  },
  {
   "cell_type": "code",
   "execution_count": 6,
   "metadata": {
    "id": "_02thblTCKEF"
   },
   "outputs": [
    {
     "data": {
      "image/png": "[encoded data removed]",
      "text/plain": [
       "<Figure size 800x500 with 1 Axes>"
      ]
     },
     "metadata": {},
     "output_type": "display_data"
    }
   ],
   "source": [
    "categoria_maior_dp = desvio_padrao_categoria.loc[desvio_padrao_categoria['Preco_Normal'].idxmax(), 'Categoria']\n",
    "df_filtrado = df[df['Categoria'] == categoria_maior_dp]\n",
    "plt.figure(figsize=(8, 5))\n",
    "plt.boxplot(df_filtrado['Preco_Normal'], vert=True, patch_artist=True)\n",
    "plt.title(f'Distribuição de Preco_Normal para {categoria_maior_dp}')\n",
    "plt.ylabel('Preço Normal')\n",
    "plt.xticks([1], [categoria_maior_dp])\n",
    "plt.grid(True)"
   ]
  },
  {
   "cell_type": "markdown",
   "metadata": {
    "id": "w5xgQBC_0Hg-"
   },
   "source": [
    "# 4 - Plote um gráfico de barras onde temos a média de descontos por categoria.\n"
   ]
  },
  {
   "cell_type": "code",
   "execution_count": 7,
   "metadata": {
    "id": "DBj5zAdI0QfI"
   },
   "outputs": [
    {
     "data": {
      "image/png": "[encoded data removed]",
      "text/plain": [
       "<Figure size 1000x500 with 1 Axes>"
      ]
     },
     "metadata": {},
     "output_type": "display_data"
    }
   ],
   "source": [
    "media_desconto_categoria = df.groupby('Categoria')['Desconto'].mean().reset_index()\n",
    "media_desconto_categoria = media_desconto_categoria.sort_values(by='Desconto', ascending=False)\n",
    "plt.figure(figsize=(10, 5))\n",
    "plt.bar(media_desconto_categoria['Categoria'], media_desconto_categoria['Desconto'], color='lightblue')\n",
    "plt.xlabel('Categoria')\n",
    "plt.ylabel('Média de Desconto')\n",
    "plt.title('Média de Descontos por Categoria')\n",
    "plt.xticks(rotation=45)\n",
    "plt.grid(True)"
   ]
  },
  {
   "cell_type": "markdown",
   "metadata": {
    "id": "vqlx0w7E07uC"
   },
   "source": [
    "# 5 - Plote um gráfico de mapa interativo agrupando os dados por categoria, marca e trazendo a média de desconto."
   ]
  },
  {
   "cell_type": "code",
   "execution_count": 8,
   "metadata": {
    "id": "D-JWM64Q1NzB"
   },
   "outputs": [
    {
     "data": {
      "application/vnd.plotly.v1+json": {
       "config": {
        "plotlyServerURL": "https://plot.ly"
       },
       "data": [
        {
         "customdata": [
          [
           123.75
          ],
          [
           444.6666666666667
          ],
          [
           590
          ],
          [
           0
          ],
          [
           34.083333333333336
          ],
          [
           0
          ],
          [
           650
          ],
          [
           0
          ],
          [
           0
          ],
          [
           117.0952380952381
          ],
          [
           0
          ],
          [
           0
          ],
          [
           0
          ],
          [
           429.8666666666667
          ],
          [
           252.25
          ],
          [
           0
          ],
          [
           0
          ],
          [
           0
          ],
          [
           0
          ],
          [
           0
          ],
          [
           0
          ],
          [
           0
          ],
          [
           0
          ],
          [
           0
          ],
          [
           0
          ],
          [
           0
          ],
          [
           0
          ],
          [
           0
          ],
          [
           55.166666666666664
          ],
          [
           0
          ],
          [
           94.83333333333333
          ],
          [
           0
          ],
          [
           0
          ],
          [
           0
          ],
          [
           0
          ],
          [
           0
          ],
          [
           0
          ],
          [
           103.45454545454545
          ],
          [
           0
          ],
          [
           797
          ],
          [
           88.55555555555556
          ],
          [
           684.8571428571429
          ],
          [
           344.3333333333333
          ],
          [
           0
          ],
          [
           304.5
          ],
          [
           660
          ],
          [
           795
          ],
          [
           660
          ],
          [
           795
          ],
          [
           0
          ],
          [
           0
          ],
          [
           0
          ],
          [
           0
          ],
          [
           300
          ],
          [
           0
          ],
          [
           0
          ],
          [
           0
          ],
          [
           0
          ],
          [
           0
          ],
          [
           0
          ],
          [
           0
          ],
          [
           0
          ],
          [
           0
          ],
          [
           200
          ],
          [
           0
          ],
          [
           0
          ],
          [
           0
          ],
          [
           0
          ],
          [
           0
          ],
          [
           0
          ],
          [
           429.7857142857143
          ],
          [
           357.5
          ],
          [
           148.34285714285716
          ],
          [
           0
          ],
          [
           136.26666666666668
          ],
          [
           0
          ],
          [
           0
          ],
          [
           0
          ],
          [
           955
          ],
          [
           657
          ],
          [
           19.5
          ],
          [
           0
          ],
          [
           210
          ],
          [
           0
          ],
          [
           0
          ],
          [
           0
          ],
          [
           0
          ],
          [
           0
          ],
          [
           0
          ],
          [
           0
          ],
          [
           164.25
          ],
          [
           0
          ],
          [
           70
          ],
          [
           456.15625
          ],
          [
           120
          ],
          [
           0
          ],
          [
           0
          ],
          [
           0
          ],
          [
           0
          ],
          [
           546
          ],
          [
           0
          ],
          [
           0
          ],
          [
           0
          ],
          [
           0
          ],
          [
           0
          ],
          [
           0
          ],
          [
           0
          ],
          [
           0
          ],
          [
           0
          ],
          [
           0
          ],
          [
           0
          ],
          [
           0
          ],
          [
           0
          ],
          [
           0
          ],
          [
           0
          ],
          [
           0
          ],
          [
           0
          ],
          [
           0
          ],
          [
           0
          ],
          [
           0
          ],
          [
           0
          ],
          [
           0
          ],
          [
           0
          ],
          [
           0
          ],
          [
           0
          ],
          [
           4.471264367816092
          ],
          [
           0
          ],
          [
           0
          ],
          [
           16.318181818181817
          ],
          [
           0
          ],
          [
           0
          ],
          [
           0
          ],
          [
           0
          ],
          [
           0
          ],
          [
           0
          ],
          [
           0
          ],
          [
           0
          ],
          [
           0
          ],
          [
           0
          ],
          [
           0
          ],
          [
           1.7674418604651163
          ],
          [
           0
          ],
          [
           869.8
          ],
          [
           160
          ],
          [
           0
          ],
          [
           0
          ],
          [
           0
          ],
          [
           0
          ],
          [
           0
          ],
          [
           0
          ],
          [
           0
          ],
          [
           0
          ],
          [
           0
          ],
          [
           149.5
          ],
          [
           0
          ],
          [
           0
          ],
          [
           10.852941176470589
          ],
          [
           0
          ],
          [
           261
          ],
          [
           0
          ],
          [
           0
          ],
          [
           0
          ],
          [
           0
          ],
          [
           0
          ],
          [
           0
          ],
          [
           0
          ],
          [
           0
          ]
         ],
         "hovertemplate": "<b>%{hovertext}</b><br><br>Categoria=%{x}<br>Marca=%{y}<br>Desconto=%{marker.color}<extra></extra>",
         "hovertext": [
          "Always",
          "Aquafresh",
          "Axe",
          "Babyland",
          "Ballerina",
          "Bellekiss",
          "BiO",
          "Brooks",
          "Carefree",
          "Colgate",
          "Cotidian",
          "Cotosan",
          "Dento",
          "Dove",
          "Dove Men",
          "Duralón",
          "Elite",
          "Elvive",
          "Familand",
          "Family Care",
          "Fructis",
          "Garnier",
          "Gillette",
          "Giselle",
          "Head & Shoulders",
          "Herbal",
          "Herbal Essences",
          "Ilicit",
          "Kotex",
          "Lady Speed Stick",
          "Ladysoft",
          "Le Sancy",
          "Linic",
          "Listerine",
          "Naturella",
          "Nivea",
          "Nivea For Men",
          "Nosotras",
          "Old Spice",
          "Oral Fresh",
          "Oral-B",
          "Pantene",
          "Pepsodent",
          "Plenitud",
          "Protex",
          "Rexona",
          "Rexona Clinical",
          "Rexona Men",
          "Rexona Men Clinical",
          "Schick",
          "Sedal",
          "Sensodyne",
          "Simond'S",
          "Simonds",
          "Speed Stick",
          "Tena",
          "Trianon",
          "Tío Nacho",
          "Vanart",
          "Bredenmaster",
          "Corbac",
          "Cuisine & Co",
          "La Crianza",
          "PF",
          "Rana",
          "Sadia",
          "Santa Isabel",
          "Solo Italia",
          "Alimentos Shen",
          "Bravissimo",
          "Bresler",
          "Carte Dor",
          "Cuisine & Co",
          "Fiesta",
          "Frutos Del Maipo",
          "Guallarauco",
          "King",
          "La Crianza",
          "Magnum",
          "Mega",
          "Minuto Verde",
          "Mister Veggie",
          "Not Burger",
          "Not Chicken",
          "Not Ice Cream",
          "PF",
          "Receta Del Abuelo",
          "Rikü",
          "Rock",
          "Sadia",
          "Sahne Nuss",
          "San Francisco De Loncomilla",
          "San Jorge",
          "Savory",
          "Super Beef",
          "Super Cerdo",
          "Super Pollo",
          "Tivoni",
          "Turkey Hill",
          "Viennetta Bresler",
          "Zole",
          "Frutas Y Verduras Propias",
          "Frutas Y Verduras Santa Isabel",
          "Sofruco",
          "Alcafood",
          "Carozzi",
          "Cuisine & Co",
          "Gourmet",
          "Hoffmann",
          "Maggi",
          "Máxima MP",
          "Naturezza",
          "Santa Isabel",
          "Traverso",
          "1+1 Soprole",
          "Activia",
          "Astra",
          "Base Culinar",
          "Bonella",
          "Calan",
          "Calo",
          "Chamyto",
          "Chiquitín",
          "Cintazul",
          "Collico",
          "Colun",
          "Copacabana",
          "Crucina",
          "Cuisine & Co",
          "Danone",
          "Deline",
          "Ideal",
          "Kumey",
          "Lefersa",
          "Light & Free",
          "Loncoleche",
          "Los Alerces",
          "Marco Polo",
          "Máxima MP",
          "Nesquik",
          "Nestlé",
          "Next",
          "Nido",
          "Not Milk",
          "Oikos",
          "Omega 3",
          "Pamperita",
          "Qualy",
          "Quillayes",
          "Regimel",
          "Sahne Nuss",
          "San Ignacio",
          "Santa Isabel",
          "Santa Marta",
          "Shake A Shake Lonco Leche",
          "Signore Mario",
          "Soprole",
          "Soprole Activ",
          "Sureña",
          "Surlat",
          "Svelty",
          "Yogu - Yogu",
          "Zerolacto",
          "Agrosano",
          "Dole",
          "Frutas Y Verduras Propias",
          "Jumbo"
         ],
         "legendgroup": "",
         "marker": {
          "color": [
           123.75,
           444.6666666666667,
           590,
           0,
           34.083333333333336,
           0,
           650,
           0,
           0,
           117.0952380952381,
           0,
           0,
           0,
           429.8666666666667,
           252.25,
           0,
           0,
           0,
           0,
           0,
           0,
           0,
           0,
           0,
           0,
           0,
           0,
           0,
           55.166666666666664,
           0,
           94.83333333333333,
           0,
           0,
           0,
           0,
           0,
           0,
           103.45454545454545,
           0,
           797,
           88.55555555555556,
           684.8571428571429,
           344.3333333333333,
           0,
           304.5,
           660,
           795,
           660,
           795,
           0,
           0,
           0,
           0,
           300,
           0,
           0,
           0,
           0,
           0,
           0,
           0,
           0,
           0,
           200,
           0,
           0,
           0,
           0,
           0,
           0,
           429.7857142857143,
           357.5,
           148.34285714285716,
           0,
           136.26666666666668,
           0,
           0,
           0,
           955,
           657,
           19.5,
           0,
           210,
           0,
           0,
           0,
           0,
           0,
           0,
           0,
           164.25,
           0,
           70,
           456.15625,
           120,
           0,
           0,
           0,
           0,
           546,
           0,
           0,
           0,
           0,
           0,
           0,
           0,
           0,
           0,
           0,
           0,
           0,
           0,
           0,
           0,
           0,
           0,
           0,
           0,
           0,
           0,
           0,
           0,
           0,
           0,
           4.471264367816092,
           0,
           0,
           16.318181818181817,
           0,
           0,
           0,
           0,
           0,
           0,
           0,
           0,
           0,
           0,
           0,
           1.7674418604651163,
           0,
           869.8,
           160,
           0,
           0,
           0,
           0,
           0,
           0,
           0,
           0,
           0,
           149.5,
           0,
           0,
           10.852941176470589,
           0,
           261,
           0,
           0,
           0,
           0,
           0,
           0,
           0,
           0
          ],
          "coloraxis": "coloraxis",
          "size": [
           123.75,
           444.6666666666667,
           590,
           0,
           34.083333333333336,
           0,
           650,
           0,
           0,
           117.0952380952381,
           0,
           0,
           0,
           429.8666666666667,
           252.25,
           0,
           0,
           0,
           0,
           0,
           0,
           0,
           0,
           0,
           0,
           0,
           0,
           0,
           55.166666666666664,
           0,
           94.83333333333333,
           0,
           0,
           0,
           0,
           0,
           0,
           103.45454545454545,
           0,
           797,
           88.55555555555556,
           684.8571428571429,
           344.3333333333333,
           0,
           304.5,
           660,
           795,
           660,
           795,
           0,
           0,
           0,
           0,
           300,
           0,
           0,
           0,
           0,
           0,
           0,
           0,
           0,
           0,
           200,
           0,
           0,
           0,
           0,
           0,
           0,
           429.7857142857143,
           357.5,
           148.34285714285716,
           0,
           136.26666666666668,
           0,
           0,
           0,
           955,
           657,
           19.5,
           0,
           210,
           0,
           0,
           0,
           0,
           0,
           0,
           0,
           164.25,
           0,
           70,
           456.15625,
           120,
           0,
           0,
           0,
           0,
           546,
           0,
           0,
           0,
           0,
           0,
           0,
           0,
           0,
           0,
           0,
           0,
           0,
           0,
           0,
           0,
           0,
           0,
           0,
           0,
           0,
           0,
           0,
           0,
           0,
           0,
           4.471264367816092,
           0,
           0,
           16.318181818181817,
           0,
           0,
           0,
           0,
           0,
           0,
           0,
           0,
           0,
           0,
           0,
           1.7674418604651163,
           0,
           869.8,
           160,
           0,
           0,
           0,
           0,
           0,
           0,
           0,
           0,
           0,
           149.5,
           0,
           0,
           10.852941176470589,
           0,
           261,
           0,
           0,
           0,
           0,
           0,
           0,
           0,
           0
          ],
          "sizemode": "area",
          "sizeref": 2.3875,
          "symbol": "circle"
         },
         "mode": "markers",
         "name": "",
         "orientation": "v",
         "showlegend": false,
         "type": "scatter",
         "x": [
          "belleza-y-cuidado-personal",
          "belleza-y-cuidado-personal",
          "belleza-y-cuidado-personal",
          "belleza-y-cuidado-personal",
          "belleza-y-cuidado-personal",
          "belleza-y-cuidado-personal",
          "belleza-y-cuidado-personal",
          "belleza-y-cuidado-personal",
          "belleza-y-cuidado-personal",
          "belleza-y-cuidado-personal",
          "belleza-y-cuidado-personal",
          "belleza-y-cuidado-personal",
          "belleza-y-cuidado-personal",
          "belleza-y-cuidado-personal",
          "belleza-y-cuidado-personal",
          "belleza-y-cuidado-personal",
          "belleza-y-cuidado-personal",
          "belleza-y-cuidado-personal",
          "belleza-y-cuidado-personal",
          "belleza-y-cuidado-personal",
          "belleza-y-cuidado-personal",
          "belleza-y-cuidado-personal",
          "belleza-y-cuidado-personal",
          "belleza-y-cuidado-personal",
          "belleza-y-cuidado-personal",
          "belleza-y-cuidado-personal",
          "belleza-y-cuidado-personal",
          "belleza-y-cuidado-personal",
          "belleza-y-cuidado-personal",
          "belleza-y-cuidado-personal",
          "belleza-y-cuidado-personal",
          "belleza-y-cuidado-personal",
          "belleza-y-cuidado-personal",
          "belleza-y-cuidado-personal",
          "belleza-y-cuidado-personal",
          "belleza-y-cuidado-personal",
          "belleza-y-cuidado-personal",
          "belleza-y-cuidado-personal",
          "belleza-y-cuidado-personal",
          "belleza-y-cuidado-personal",
          "belleza-y-cuidado-personal",
          "belleza-y-cuidado-personal",
          "belleza-y-cuidado-personal",
          "belleza-y-cuidado-personal",
          "belleza-y-cuidado-personal",
          "belleza-y-cuidado-personal",
          "belleza-y-cuidado-personal",
          "belleza-y-cuidado-personal",
          "belleza-y-cuidado-personal",
          "belleza-y-cuidado-personal",
          "belleza-y-cuidado-personal",
          "belleza-y-cuidado-personal",
          "belleza-y-cuidado-personal",
          "belleza-y-cuidado-personal",
          "belleza-y-cuidado-personal",
          "belleza-y-cuidado-personal",
          "belleza-y-cuidado-personal",
          "belleza-y-cuidado-personal",
          "belleza-y-cuidado-personal",
          "comidas-preparadas",
          "comidas-preparadas",
          "comidas-preparadas",
          "comidas-preparadas",
          "comidas-preparadas",
          "comidas-preparadas",
          "comidas-preparadas",
          "comidas-preparadas",
          "comidas-preparadas",
          "congelados",
          "congelados",
          "congelados",
          "congelados",
          "congelados",
          "congelados",
          "congelados",
          "congelados",
          "congelados",
          "congelados",
          "congelados",
          "congelados",
          "congelados",
          "congelados",
          "congelados",
          "congelados",
          "congelados",
          "congelados",
          "congelados",
          "congelados",
          "congelados",
          "congelados",
          "congelados",
          "congelados",
          "congelados",
          "congelados",
          "congelados",
          "congelados",
          "congelados",
          "congelados",
          "congelados",
          "congelados",
          "congelados",
          "frutas",
          "frutas",
          "frutas",
          "instantaneos-y-sopas",
          "instantaneos-y-sopas",
          "instantaneos-y-sopas",
          "instantaneos-y-sopas",
          "instantaneos-y-sopas",
          "instantaneos-y-sopas",
          "instantaneos-y-sopas",
          "instantaneos-y-sopas",
          "instantaneos-y-sopas",
          "instantaneos-y-sopas",
          "lacteos",
          "lacteos",
          "lacteos",
          "lacteos",
          "lacteos",
          "lacteos",
          "lacteos",
          "lacteos",
          "lacteos",
          "lacteos",
          "lacteos",
          "lacteos",
          "lacteos",
          "lacteos",
          "lacteos",
          "lacteos",
          "lacteos",
          "lacteos",
          "lacteos",
          "lacteos",
          "lacteos",
          "lacteos",
          "lacteos",
          "lacteos",
          "lacteos",
          "lacteos",
          "lacteos",
          "lacteos",
          "lacteos",
          "lacteos",
          "lacteos",
          "lacteos",
          "lacteos",
          "lacteos",
          "lacteos",
          "lacteos",
          "lacteos",
          "lacteos",
          "lacteos",
          "lacteos",
          "lacteos",
          "lacteos",
          "lacteos",
          "lacteos",
          "lacteos",
          "lacteos",
          "lacteos",
          "lacteos",
          "lacteos",
          "verduras",
          "verduras",
          "verduras",
          "verduras"
         ],
         "xaxis": "x",
         "y": [
          "Always",
          "Aquafresh",
          "Axe",
          "Babyland",
          "Ballerina",
          "Bellekiss",
          "BiO",
          "Brooks",
          "Carefree",
          "Colgate",
          "Cotidian",
          "Cotosan",
          "Dento",
          "Dove",
          "Dove Men",
          "Duralón",
          "Elite",
          "Elvive",
          "Familand",
          "Family Care",
          "Fructis",
          "Garnier",
          "Gillette",
          "Giselle",
          "Head & Shoulders",
          "Herbal",
          "Herbal Essences",
          "Ilicit",
          "Kotex",
          "Lady Speed Stick",
          "Ladysoft",
          "Le Sancy",
          "Linic",
          "Listerine",
          "Naturella",
          "Nivea",
          "Nivea For Men",
          "Nosotras",
          "Old Spice",
          "Oral Fresh",
          "Oral-B",
          "Pantene",
          "Pepsodent",
          "Plenitud",
          "Protex",
          "Rexona",
          "Rexona Clinical",
          "Rexona Men",
          "Rexona Men Clinical",
          "Schick",
          "Sedal",
          "Sensodyne",
          "Simond'S",
          "Simonds",
          "Speed Stick",
          "Tena",
          "Trianon",
          "Tío Nacho",
          "Vanart",
          "Bredenmaster",
          "Corbac",
          "Cuisine & Co",
          "La Crianza",
          "PF",
          "Rana",
          "Sadia",
          "Santa Isabel",
          "Solo Italia",
          "Alimentos Shen",
          "Bravissimo",
          "Bresler",
          "Carte Dor",
          "Cuisine & Co",
          "Fiesta",
          "Frutos Del Maipo",
          "Guallarauco",
          "King",
          "La Crianza",
          "Magnum",
          "Mega",
          "Minuto Verde",
          "Mister Veggie",
          "Not Burger",
          "Not Chicken",
          "Not Ice Cream",
          "PF",
          "Receta Del Abuelo",
          "Rikü",
          "Rock",
          "Sadia",
          "Sahne Nuss",
          "San Francisco De Loncomilla",
          "San Jorge",
          "Savory",
          "Super Beef",
          "Super Cerdo",
          "Super Pollo",
          "Tivoni",
          "Turkey Hill",
          "Viennetta Bresler",
          "Zole",
          "Frutas Y Verduras Propias",
          "Frutas Y Verduras Santa Isabel",
          "Sofruco",
          "Alcafood",
          "Carozzi",
          "Cuisine & Co",
          "Gourmet",
          "Hoffmann",
          "Maggi",
          "Máxima MP",
          "Naturezza",
          "Santa Isabel",
          "Traverso",
          "1+1 Soprole",
          "Activia",
          "Astra",
          "Base Culinar",
          "Bonella",
          "Calan",
          "Calo",
          "Chamyto",
          "Chiquitín",
          "Cintazul",
          "Collico",
          "Colun",
          "Copacabana",
          "Crucina",
          "Cuisine & Co",
          "Danone",
          "Deline",
          "Ideal",
          "Kumey",
          "Lefersa",
          "Light & Free",
          "Loncoleche",
          "Los Alerces",
          "Marco Polo",
          "Máxima MP",
          "Nesquik",
          "Nestlé",
          "Next",
          "Nido",
          "Not Milk",
          "Oikos",
          "Omega 3",
          "Pamperita",
          "Qualy",
          "Quillayes",
          "Regimel",
          "Sahne Nuss",
          "San Ignacio",
          "Santa Isabel",
          "Santa Marta",
          "Shake A Shake Lonco Leche",
          "Signore Mario",
          "Soprole",
          "Soprole Activ",
          "Sureña",
          "Surlat",
          "Svelty",
          "Yogu - Yogu",
          "Zerolacto",
          "Agrosano",
          "Dole",
          "Frutas Y Verduras Propias",
          "Jumbo"
         ],
         "yaxis": "y"
        }
       ],
       "layout": {
        "coloraxis": {
         "colorbar": {
          "title": {
           "text": "Desconto"
          }
         },
         "colorscale": [
          [
           0,
           "#440154"
          ],
          [
           0.1111111111111111,
           "#482878"
          ],
          [
           0.2222222222222222,
           "#3e4989"
          ],
          [
           0.3333333333333333,
           "#31688e"
          ],
          [
           0.4444444444444444,
           "#26828e"
          ],
          [
           0.5555555555555556,
           "#1f9e89"
          ],
          [
           0.6666666666666666,
           "#35b779"
          ],
          [
           0.7777777777777778,
           "#6ece58"
          ],
          [
           0.8888888888888888,
           "#b5de2b"
          ],
          [
           1,
           "#fde725"
          ]
         ]
        },
        "legend": {
         "itemsizing": "constant",
         "tracegroupgap": 0
        },
        "template": {
         "data": {
          "bar": [
           {
            "error_x": {
             "color": "#2a3f5f"
            },
            "error_y": {
             "color": "#2a3f5f"
            },
            "marker": {
             "line": {
              "color": "#E5ECF6",
              "width": 0.5
             },
             "pattern": {
              "fillmode": "overlay",
              "size": 10,
              "solidity": 0.2
             }
            },
            "type": "bar"
           }
          ],
          "barpolar": [
           {
            "marker": {
             "line": {
              "color": "#E5ECF6",
              "width": 0.5
             },
             "pattern": {
              "fillmode": "overlay",
              "size": 10,
              "solidity": 0.2
             }
            },
            "type": "barpolar"
           }
          ],
          "carpet": [
           {
            "aaxis": {
             "endlinecolor": "#2a3f5f",
             "gridcolor": "white",
             "linecolor": "white",
             "minorgridcolor": "white",
             "startlinecolor": "#2a3f5f"
            },
            "baxis": {
             "endlinecolor": "#2a3f5f",
             "gridcolor": "white",
             "linecolor": "white",
             "minorgridcolor": "white",
             "startlinecolor": "#2a3f5f"
            },
            "type": "carpet"
           }
          ],
          "choropleth": [
           {
            "colorbar": {
             "outlinewidth": 0,
             "ticks": ""
            },
            "type": "choropleth"
           }
          ],
          "contour": [
           {
            "colorbar": {
             "outlinewidth": 0,
             "ticks": ""
            },
            "colorscale": [
             [
              0,
              "#0d0887"
             ],
             [
              0.1111111111111111,
              "#46039f"
             ],
             [
              0.2222222222222222,
              "#7201a8"
             ],
             [
              0.3333333333333333,
              "#9c179e"
             ],
             [
              0.4444444444444444,
              "#bd3786"
             ],
             [
              0.5555555555555556,
              "#d8576b"
             ],
             [
              0.6666666666666666,
              "#ed7953"
             ],
             [
              0.7777777777777778,
              "#fb9f3a"
             ],
             [
              0.8888888888888888,
              "#fdca26"
             ],
             [
              1,
              "#f0f921"
             ]
            ],
            "type": "contour"
           }
          ],
          "contourcarpet": [
           {
            "colorbar": {
             "outlinewidth": 0,
             "ticks": ""
            },
            "type": "contourcarpet"
           }
          ],
          "heatmap": [
           {
            "colorbar": {
             "outlinewidth": 0,
             "ticks": ""
            },
            "colorscale": [
             [
              0,
              "#0d0887"
             ],
             [
              0.1111111111111111,
              "#46039f"
             ],
             [
              0.2222222222222222,
              "#7201a8"
             ],
             [
              0.3333333333333333,
              "#9c179e"
             ],
             [
              0.4444444444444444,
              "#bd3786"
             ],
             [
              0.5555555555555556,
              "#d8576b"
             ],
             [
              0.6666666666666666,
              "#ed7953"
             ],
             [
              0.7777777777777778,
              "#fb9f3a"
             ],
             [
              0.8888888888888888,
              "#fdca26"
             ],
             [
              1,
              "#f0f921"
             ]
            ],
            "type": "heatmap"
           }
          ],
          "heatmapgl": [
           {
            "colorbar": {
             "outlinewidth": 0,
             "ticks": ""
            },
            "colorscale": [
             [
              0,
              "#0d0887"
             ],
             [
              0.1111111111111111,
              "#46039f"
             ],
             [
              0.2222222222222222,
              "#7201a8"
             ],
             [
              0.3333333333333333,
              "#9c179e"
             ],
             [
              0.4444444444444444,
              "#bd3786"
             ],
             [
              0.5555555555555556,
              "#d8576b"
             ],
             [
              0.6666666666666666,
              "#ed7953"
             ],
             [
              0.7777777777777778,
              "#fb9f3a"
             ],
             [
              0.8888888888888888,
              "#fdca26"
             ],
             [
              1,
              "#f0f921"
             ]
            ],
            "type": "heatmapgl"
           }
          ],
          "histogram": [
           {
            "marker": {
             "pattern": {
              "fillmode": "overlay",
              "size": 10,
              "solidity": 0.2
             }
            },
            "type": "histogram"
           }
          ],
          "histogram2d": [
           {
            "colorbar": {
             "outlinewidth": 0,
             "ticks": ""
            },
            "colorscale": [
             [
              0,
              "#0d0887"
             ],
             [
              0.1111111111111111,
              "#46039f"
             ],
             [
              0.2222222222222222,
              "#7201a8"
             ],
             [
              0.3333333333333333,
              "#9c179e"
             ],
             [
              0.4444444444444444,
              "#bd3786"
             ],
             [
              0.5555555555555556,
              "#d8576b"
             ],
             [
              0.6666666666666666,
              "#ed7953"
             ],
             [
              0.7777777777777778,
              "#fb9f3a"
             ],
             [
              0.8888888888888888,
              "#fdca26"
             ],
             [
              1,
              "#f0f921"
             ]
            ],
            "type": "histogram2d"
           }
          ],
          "histogram2dcontour": [
           {
            "colorbar": {
             "outlinewidth": 0,
             "ticks": ""
            },
            "colorscale": [
             [
              0,
              "#0d0887"
             ],
             [
              0.1111111111111111,
              "#46039f"
             ],
             [
              0.2222222222222222,
              "#7201a8"
             ],
             [
              0.3333333333333333,
              "#9c179e"
             ],
             [
              0.4444444444444444,
              "#bd3786"
             ],
             [
              0.5555555555555556,
              "#d8576b"
             ],
             [
              0.6666666666666666,
              "#ed7953"
             ],
             [
              0.7777777777777778,
              "#fb9f3a"
             ],
             [
              0.8888888888888888,
              "#fdca26"
             ],
             [
              1,
              "#f0f921"
             ]
            ],
            "type": "histogram2dcontour"
           }
          ],
          "mesh3d": [
           {
            "colorbar": {
             "outlinewidth": 0,
             "ticks": ""
            },
            "type": "mesh3d"
           }
          ],
          "parcoords": [
           {
            "line": {
             "colorbar": {
              "outlinewidth": 0,
              "ticks": ""
             }
            },
            "type": "parcoords"
           }
          ],
          "pie": [
           {
            "automargin": true,
            "type": "pie"
           }
          ],
          "scatter": [
           {
            "fillpattern": {
             "fillmode": "overlay",
             "size": 10,
             "solidity": 0.2
            },
            "type": "scatter"
           }
          ],
          "scatter3d": [
           {
            "line": {
             "colorbar": {
              "outlinewidth": 0,
              "ticks": ""
             }
            },
            "marker": {
             "colorbar": {
              "outlinewidth": 0,
              "ticks": ""
             }
            },
            "type": "scatter3d"
           }
          ],
          "scattercarpet": [
           {
            "marker": {
             "colorbar": {
              "outlinewidth": 0,
              "ticks": ""
             }
            },
            "type": "scattercarpet"
           }
          ],
          "scattergeo": [
           {
            "marker": {
             "colorbar": {
              "outlinewidth": 0,
              "ticks": ""
             }
            },
            "type": "scattergeo"
           }
          ],
          "scattergl": [
           {
            "marker": {
             "colorbar": {
              "outlinewidth": 0,
              "ticks": ""
             }
            },
            "type": "scattergl"
           }
          ],
          "scattermapbox": [
           {
            "marker": {
             "colorbar": {
              "outlinewidth": 0,
              "ticks": ""
             }
            },
            "type": "scattermapbox"
           }
          ],
          "scatterpolar": [
           {
            "marker": {
             "colorbar": {
              "outlinewidth": 0,
              "ticks": ""
             }
            },
            "type": "scatterpolar"
           }
          ],
          "scatterpolargl": [
           {
            "marker": {
             "colorbar": {
              "outlinewidth": 0,
              "ticks": ""
             }
            },
            "type": "scatterpolargl"
           }
          ],
          "scatterternary": [
           {
            "marker": {
             "colorbar": {
              "outlinewidth": 0,
              "ticks": ""
             }
            },
            "type": "scatterternary"
           }
          ],
          "surface": [
           {
            "colorbar": {
             "outlinewidth": 0,
             "ticks": ""
            },
            "colorscale": [
             [
              0,
              "#0d0887"
             ],
             [
              0.1111111111111111,
              "#46039f"
             ],
             [
              0.2222222222222222,
              "#7201a8"
             ],
             [
              0.3333333333333333,
              "#9c179e"
             ],
             [
              0.4444444444444444,
              "#bd3786"
             ],
             [
              0.5555555555555556,
              "#d8576b"
             ],
             [
              0.6666666666666666,
              "#ed7953"
             ],
             [
              0.7777777777777778,
              "#fb9f3a"
             ],
             [
              0.8888888888888888,
              "#fdca26"
             ],
             [
              1,
              "#f0f921"
             ]
            ],
            "type": "surface"
           }
          ],
          "table": [
           {
            "cells": {
             "fill": {
              "color": "#EBF0F8"
             },
             "line": {
              "color": "white"
             }
            },
            "header": {
             "fill": {
              "color": "#C8D4E3"
             },
             "line": {
              "color": "white"
             }
            },
            "type": "table"
           }
          ]
         },
         "layout": {
          "annotationdefaults": {
           "arrowcolor": "#2a3f5f",
           "arrowhead": 0,
           "arrowwidth": 1
          },
          "autotypenumbers": "strict",
          "coloraxis": {
           "colorbar": {
            "outlinewidth": 0,
            "ticks": ""
           }
          },
          "colorscale": {
           "diverging": [
            [
             0,
             "#8e0152"
            ],
            [
             0.1,
             "#c51b7d"
            ],
            [
             0.2,
             "#de77ae"
            ],
            [
             0.3,
             "#f1b6da"
            ],
            [
             0.4,
             "#fde0ef"
            ],
            [
             0.5,
             "#f7f7f7"
            ],
            [
             0.6,
             "#e6f5d0"
            ],
            [
             0.7,
             "#b8e186"
            ],
            [
             0.8,
             "#7fbc41"
            ],
            [
             0.9,
             "#4d9221"
            ],
            [
             1,
             "#276419"
            ]
           ],
           "sequential": [
            [
             0,
             "#0d0887"
            ],
            [
             0.1111111111111111,
             "#46039f"
            ],
            [
             0.2222222222222222,
             "#7201a8"
            ],
            [
             0.3333333333333333,
             "#9c179e"
            ],
            [
             0.4444444444444444,
             "#bd3786"
            ],
            [
             0.5555555555555556,
             "#d8576b"
            ],
            [
             0.6666666666666666,
             "#ed7953"
            ],
            [
             0.7777777777777778,
             "#fb9f3a"
            ],
            [
             0.8888888888888888,
             "#fdca26"
            ],
            [
             1,
             "#f0f921"
            ]
           ],
           "sequentialminus": [
            [
             0,
             "#0d0887"
            ],
            [
             0.1111111111111111,
             "#46039f"
            ],
            [
             0.2222222222222222,
             "#7201a8"
            ],
            [
             0.3333333333333333,
             "#9c179e"
            ],
            [
             0.4444444444444444,
             "#bd3786"
            ],
            [
             0.5555555555555556,
             "#d8576b"
            ],
            [
             0.6666666666666666,
             "#ed7953"
            ],
            [
             0.7777777777777778,
             "#fb9f3a"
            ],
            [
             0.8888888888888888,
             "#fdca26"
            ],
            [
             1,
             "#f0f921"
            ]
           ]
          },
          "colorway": [
           "#636efa",
           "#EF553B",
           "#00cc96",
           "#ab63fa",
           "#FFA15A",
           "#19d3f3",
           "#FF6692",
           "#B6E880",
           "#FF97FF",
           "#FECB52"
          ],
          "font": {
           "color": "#2a3f5f"
          },
          "geo": {
           "bgcolor": "white",
           "lakecolor": "white",
           "landcolor": "#E5ECF6",
           "showlakes": true,
           "showland": true,
           "subunitcolor": "white"
          },
          "hoverlabel": {
           "align": "left"
          },
          "hovermode": "closest",
          "mapbox": {
           "style": "light"
          },
          "paper_bgcolor": "white",
          "plot_bgcolor": "#E5ECF6",
          "polar": {
           "angularaxis": {
            "gridcolor": "white",
            "linecolor": "white",
            "ticks": ""
           },
           "bgcolor": "#E5ECF6",
           "radialaxis": {
            "gridcolor": "white",
            "linecolor": "white",
            "ticks": ""
           }
          },
          "scene": {
           "xaxis": {
            "backgroundcolor": "#E5ECF6",
            "gridcolor": "white",
            "gridwidth": 2,
            "linecolor": "white",
            "showbackground": true,
            "ticks": "",
            "zerolinecolor": "white"
           },
           "yaxis": {
            "backgroundcolor": "#E5ECF6",
            "gridcolor": "white",
            "gridwidth": 2,
            "linecolor": "white",
            "showbackground": true,
            "ticks": "",
            "zerolinecolor": "white"
           },
           "zaxis": {
            "backgroundcolor": "#E5ECF6",
            "gridcolor": "white",
            "gridwidth": 2,
            "linecolor": "white",
            "showbackground": true,
            "ticks": "",
            "zerolinecolor": "white"
           }
          },
          "shapedefaults": {
           "line": {
            "color": "#2a3f5f"
           }
          },
          "ternary": {
           "aaxis": {
            "gridcolor": "white",
            "linecolor": "white",
            "ticks": ""
           },
           "baxis": {
            "gridcolor": "white",
            "linecolor": "white",
            "ticks": ""
           },
           "bgcolor": "#E5ECF6",
           "caxis": {
            "gridcolor": "white",
            "linecolor": "white",
            "ticks": ""
           }
          },
          "title": {
           "x": 0.05
          },
          "xaxis": {
           "automargin": true,
           "gridcolor": "white",
           "linecolor": "white",
           "ticks": "",
           "title": {
            "standoff": 15
           },
           "zerolinecolor": "white",
           "zerolinewidth": 2
          },
          "yaxis": {
           "automargin": true,
           "gridcolor": "white",
           "linecolor": "white",
           "ticks": "",
           "title": {
            "standoff": 15
           },
           "zerolinecolor": "white",
           "zerolinewidth": 2
          }
         }
        },
        "title": {
         "text": "Distribuição da Média de Descontos por Categoria e Marca"
        },
        "xaxis": {
         "anchor": "y",
         "domain": [
          0,
          1
         ],
         "tickangle": -45,
         "title": {
          "text": "Categoria"
         }
        },
        "yaxis": {
         "anchor": "x",
         "domain": [
          0,
          1
         ],
         "title": {
          "text": "Marca"
         }
        }
       }
      }
     },
     "metadata": {},
     "output_type": "display_data"
    }
   ],
   "source": [
    "media_desconto = df.groupby(['Categoria', 'Marca'])['Desconto'].mean().reset_index()\n",
    "fig = px.scatter(\n",
    "    media_desconto,\n",
    "    x='Categoria',\n",
    "    y='Marca',\n",
    "    color='Desconto',\n",
    "    size='Desconto',\n",
    "    hover_name='Marca',\n",
    "    hover_data=['Categoria', 'Desconto'],\n",
    "    title=\"Distribuição da Média de Descontos por Categoria e Marca\",\n",
    "    color_continuous_scale=px.colors.sequential.Viridis,\n",
    "    size_max=20\n",
    ")\n",
    "fig.update_layout(\n",
    "    xaxis_title=\"Categoria\",\n",
    "    yaxis_title=\"Marca\",\n",
    "    xaxis_tickangle=-45\n",
    ")\n",
    "fig.show()"
   ]
  }
 ],
 "metadata": {
  "colab": {
   "provenance": []
  },
  "kernelspec": {
   "display_name": "Python 3",
   "name": "python3"
  },
  "language_info": {
   "codemirror_mode": {
    "name": "ipython",
    "version": 3
   },
   "file_extension": ".py",
   "mimetype": "text/x-python",
   "name": "python",
   "nbconvert_exporter": "python",
   "pygments_lexer": "ipython3",
   "version": "3.12.2"
  }
 },
 "nbformat": 4,
 "nbformat_minor": 0
}
